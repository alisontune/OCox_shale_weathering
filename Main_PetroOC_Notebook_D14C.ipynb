{
 "cells": [
  {
   "cell_type": "markdown",
   "metadata": {
    "id": "CgZKlyaLmFJk"
   },
   "source": [
    "# Import Packages"
   ]
  },
  {
   "cell_type": "code",
   "execution_count": 3,
   "metadata": {
    "id": "bT3UZnwAy1Ld"
   },
   "outputs": [],
   "source": [
    "import numpy as np\n",
    "import pandas as pd\n",
    "import matplotlib as mpl\n",
    "import matplotlib.pyplot as plt\n",
    "from matplotlib import cm\n",
    "from matplotlib.colors import ListedColormap, LinearSegmentedColormap\n",
    "import matplotlib.lines as mlines\n",
    "from datetime import datetime as dt\n",
    "from scipy.stats import linregress\n",
    "from scipy.stats import hmean"
   ]
  },
  {
   "cell_type": "markdown",
   "metadata": {
    "id": "NOr50yWxmQSc"
   },
   "source": [
    "# Import Data\n",
    "Data available on hydroshare via url: \n",
    "\n",
    "Tune, A., J. L. Druhan, C. R. Lawrence, Y. Liu, D. M. Rempe (2022). Dataset for \"In-situ observations of organic carbon oxidation in shale regolithand implications for bedrock weathering\", HydroShare, http://www.hydroshare.org/resource/82a50af377e14df0bdb994a982b24634"
   ]
  },
  {
   "cell_type": "markdown",
   "metadata": {
    "id": "0BHJjMqKpSXz"
   },
   "source": [
    "## Import incubation data"
   ]
  },
  {
   "cell_type": "code",
   "execution_count": 4,
   "metadata": {},
   "outputs": [],
   "source": [
    "all_sample_incu = pd.read_csv(\"https://www.hydroshare.org/resource/82a50af377e14df0bdb994a982b24634/data/contents/all_sample_incubation.csv\",index_col=0)\n",
    "rock_chip_incu = pd.read_csv(\"https://www.hydroshare.org/resource/82a50af377e14df0bdb994a982b24634/data/contents/rock_chip_incubation.csv\",index_col=0)\n"
   ]
  },
  {
   "cell_type": "markdown",
   "metadata": {
    "id": "Z8zdzqdwpP1c"
   },
   "source": [
    "## Import radiocarbon data"
   ]
  },
  {
   "cell_type": "code",
   "execution_count": 5,
   "metadata": {},
   "outputs": [],
   "source": [
    "# bring in the radiocarbon solid data\n",
    "c14_rock = pd.read_excel(\"https://www.hydroshare.org/resource/82a50af377e14df0bdb994a982b24634/data/contents/new_radio_solid.xlsx\")"
   ]
  },
  {
   "cell_type": "code",
   "execution_count": 6,
   "metadata": {},
   "outputs": [],
   "source": [
    "# bring in the radiocarbon gas data\n",
    "c14_gas = pd.read_excel(\"https://www.hydroshare.org/resource/82a50af377e14df0bdb994a982b24634/data/contents/new_radio_gas.xlsx\")"
   ]
  },
  {
   "cell_type": "code",
   "execution_count": 7,
   "metadata": {
    "id": "oR563vUiozQN"
   },
   "outputs": [],
   "source": [
    "c14_gasnew = c14_gas.dropna().copy()"
   ]
  },
  {
   "cell_type": "markdown",
   "metadata": {
    "id": "VXgkt6Ljhx1b"
   },
   "source": [
    "## import diffusion coefficient data based on Schmidt et al. 2020"
   ]
  },
  {
   "cell_type": "code",
   "execution_count": 8,
   "metadata": {},
   "outputs": [],
   "source": [
    "diff = pd.read_excel(\"https://www.hydroshare.org/resource/82a50af377e14df0bdb994a982b24634/data/contents/water_content_schmidt2020.xlsx\")"
   ]
  },
  {
   "cell_type": "markdown",
   "metadata": {
    "id": "eZIzhWHshsgp"
   },
   "source": [
    "## import well mineral data from Gu et al. 2020"
   ]
  },
  {
   "cell_type": "code",
   "execution_count": 9,
   "metadata": {},
   "outputs": [],
   "source": [
    "wellminer = pd.read_excel(\"https://www.hydroshare.org/resource/82a50af377e14df0bdb994a982b24634/data/contents/ERCZO_miner_published_edit.xlsx\")"
   ]
  },
  {
   "cell_type": "markdown",
   "metadata": {
    "id": "9NKl0TeFho_E"
   },
   "source": [
    "## import vms mineral data"
   ]
  },
  {
   "cell_type": "code",
   "execution_count": 10,
   "metadata": {
    "colab": {
     "base_uri": "https://localhost:8080/",
     "height": 369
    },
    "executionInfo": {
     "elapsed": 898,
     "status": "ok",
     "timestamp": 1649869149438,
     "user": {
      "displayName": "Alison K Tune",
      "userId": "02427951148635427345"
     },
     "user_tz": 300
    },
    "id": "x6mFP_kW3Lou",
    "outputId": "45d8b584-d715-4305-eb27-61f5c0f9d0d5"
   },
   "outputs": [
    {
     "data": {
      "text/html": [
       "<div>\n",
       "<style scoped>\n",
       "    .dataframe tbody tr th:only-of-type {\n",
       "        vertical-align: middle;\n",
       "    }\n",
       "\n",
       "    .dataframe tbody tr th {\n",
       "        vertical-align: top;\n",
       "    }\n",
       "\n",
       "    .dataframe thead th {\n",
       "        text-align: right;\n",
       "    }\n",
       "</style>\n",
       "<table border=\"1\" class=\"dataframe\">\n",
       "  <thead>\n",
       "    <tr style=\"text-align: right;\">\n",
       "      <th></th>\n",
       "      <th>Site</th>\n",
       "      <th>Hole_ID</th>\n",
       "      <th>Sample</th>\n",
       "      <th>Min_Depth_Down_Borehole_ft</th>\n",
       "      <th>Max_Depth_Down_Borehole_ft</th>\n",
       "      <th>Avg_Depth_Down_Borehole_ft</th>\n",
       "      <th>Avg_Depth_Down_Borehole_m</th>\n",
       "      <th>Avg_Depth_Below_Ground_Surface_m</th>\n",
       "      <th>Client</th>\n",
       "      <th>Laboratory</th>\n",
       "      <th>...</th>\n",
       "      <th>Y_PPM</th>\n",
       "      <th>Zn_PPM</th>\n",
       "      <th>Zr_PPM</th>\n",
       "      <th>LOI_per</th>\n",
       "      <th>Sum_per</th>\n",
       "      <th>Total</th>\n",
       "      <th>C_ORG_per</th>\n",
       "      <th>TOT_C_per</th>\n",
       "      <th>TOT_S_per</th>\n",
       "      <th>C_inorgper</th>\n",
       "    </tr>\n",
       "  </thead>\n",
       "  <tbody>\n",
       "    <tr>\n",
       "      <th>17</th>\n",
       "      <td>Rivendell</td>\n",
       "      <td>VMS2</td>\n",
       "      <td>VMS2 60-61</td>\n",
       "      <td>60.0</td>\n",
       "      <td>61.0</td>\n",
       "      <td>60.5</td>\n",
       "      <td>18.4404</td>\n",
       "      <td>15.105491</td>\n",
       "      <td>UT Austin</td>\n",
       "      <td>Bureau Veritas</td>\n",
       "      <td>...</td>\n",
       "      <td>20.0</td>\n",
       "      <td>NaN</td>\n",
       "      <td>126.000000</td>\n",
       "      <td>7.0</td>\n",
       "      <td>99.90</td>\n",
       "      <td>NaN</td>\n",
       "      <td>0.370000</td>\n",
       "      <td>0.530000</td>\n",
       "      <td>0.080000</td>\n",
       "      <td>0.1600</td>\n",
       "    </tr>\n",
       "    <tr>\n",
       "      <th>18</th>\n",
       "      <td>Rivendell</td>\n",
       "      <td>VMS2</td>\n",
       "      <td>VMS2 62-63</td>\n",
       "      <td>62.0</td>\n",
       "      <td>63.0</td>\n",
       "      <td>62.5</td>\n",
       "      <td>19.0500</td>\n",
       "      <td>15.604846</td>\n",
       "      <td>UT Austin</td>\n",
       "      <td>Bureau Veritas</td>\n",
       "      <td>...</td>\n",
       "      <td>20.0</td>\n",
       "      <td>NaN</td>\n",
       "      <td>122.000000</td>\n",
       "      <td>6.7</td>\n",
       "      <td>99.91</td>\n",
       "      <td>NaN</td>\n",
       "      <td>0.370000</td>\n",
       "      <td>0.500000</td>\n",
       "      <td>0.180000</td>\n",
       "      <td>0.1300</td>\n",
       "    </tr>\n",
       "    <tr>\n",
       "      <th>19</th>\n",
       "      <td>Rivendell</td>\n",
       "      <td>VMS2</td>\n",
       "      <td>VMS2 63-66</td>\n",
       "      <td>63.0</td>\n",
       "      <td>66.0</td>\n",
       "      <td>64.5</td>\n",
       "      <td>19.6596</td>\n",
       "      <td>16.104202</td>\n",
       "      <td>UT Austin</td>\n",
       "      <td>Bureau Veritas</td>\n",
       "      <td>...</td>\n",
       "      <td>20.0</td>\n",
       "      <td>NaN</td>\n",
       "      <td>125.000000</td>\n",
       "      <td>6.9</td>\n",
       "      <td>99.90</td>\n",
       "      <td>NaN</td>\n",
       "      <td>0.390000</td>\n",
       "      <td>0.560000</td>\n",
       "      <td>0.100000</td>\n",
       "      <td>0.1700</td>\n",
       "    </tr>\n",
       "    <tr>\n",
       "      <th>20</th>\n",
       "      <td>Rivendell</td>\n",
       "      <td>parent</td>\n",
       "      <td>parent</td>\n",
       "      <td>NaN</td>\n",
       "      <td>NaN</td>\n",
       "      <td>NaN</td>\n",
       "      <td>NaN</td>\n",
       "      <td>NaN</td>\n",
       "      <td>NaN</td>\n",
       "      <td>NaN</td>\n",
       "      <td>...</td>\n",
       "      <td>NaN</td>\n",
       "      <td>NaN</td>\n",
       "      <td>134.090153</td>\n",
       "      <td>NaN</td>\n",
       "      <td>NaN</td>\n",
       "      <td>NaN</td>\n",
       "      <td>0.589446</td>\n",
       "      <td>0.714246</td>\n",
       "      <td>0.095748</td>\n",
       "      <td>0.1248</td>\n",
       "    </tr>\n",
       "    <tr>\n",
       "      <th>21</th>\n",
       "      <td>Rivendell</td>\n",
       "      <td>blank</td>\n",
       "      <td>blank</td>\n",
       "      <td>NaN</td>\n",
       "      <td>NaN</td>\n",
       "      <td>NaN</td>\n",
       "      <td>NaN</td>\n",
       "      <td>NaN</td>\n",
       "      <td>UT Austin</td>\n",
       "      <td>Bureau Veritas</td>\n",
       "      <td>...</td>\n",
       "      <td>3.0</td>\n",
       "      <td>NaN</td>\n",
       "      <td>5.000000</td>\n",
       "      <td>0.0</td>\n",
       "      <td>0.02</td>\n",
       "      <td>NaN</td>\n",
       "      <td>0.020000</td>\n",
       "      <td>0.020000</td>\n",
       "      <td>0.020000</td>\n",
       "      <td>0.0200</td>\n",
       "    </tr>\n",
       "  </tbody>\n",
       "</table>\n",
       "<p>5 rows × 42 columns</p>\n",
       "</div>"
      ],
      "text/plain": [
       "         Site Hole_ID      Sample  Min_Depth_Down_Borehole_ft  \\\n",
       "17  Rivendell    VMS2  VMS2 60-61                        60.0   \n",
       "18  Rivendell    VMS2  VMS2 62-63                        62.0   \n",
       "19  Rivendell    VMS2  VMS2 63-66                        63.0   \n",
       "20  Rivendell  parent      parent                         NaN   \n",
       "21  Rivendell   blank       blank                         NaN   \n",
       "\n",
       "    Max_Depth_Down_Borehole_ft  Avg_Depth_Down_Borehole_ft  \\\n",
       "17                        61.0                        60.5   \n",
       "18                        63.0                        62.5   \n",
       "19                        66.0                        64.5   \n",
       "20                         NaN                         NaN   \n",
       "21                         NaN                         NaN   \n",
       "\n",
       "    Avg_Depth_Down_Borehole_m  Avg_Depth_Below_Ground_Surface_m     Client  \\\n",
       "17                    18.4404                         15.105491  UT Austin   \n",
       "18                    19.0500                         15.604846  UT Austin   \n",
       "19                    19.6596                         16.104202  UT Austin   \n",
       "20                        NaN                               NaN        NaN   \n",
       "21                        NaN                               NaN  UT Austin   \n",
       "\n",
       "        Laboratory  ... Y_PPM Zn_PPM      Zr_PPM LOI_per  Sum_per  Total  \\\n",
       "17  Bureau Veritas  ...  20.0    NaN  126.000000     7.0    99.90    NaN   \n",
       "18  Bureau Veritas  ...  20.0    NaN  122.000000     6.7    99.91    NaN   \n",
       "19  Bureau Veritas  ...  20.0    NaN  125.000000     6.9    99.90    NaN   \n",
       "20             NaN  ...   NaN    NaN  134.090153     NaN      NaN    NaN   \n",
       "21  Bureau Veritas  ...   3.0    NaN    5.000000     0.0     0.02    NaN   \n",
       "\n",
       "    C_ORG_per  TOT_C_per  TOT_S_per  C_inorgper  \n",
       "17   0.370000   0.530000   0.080000      0.1600  \n",
       "18   0.370000   0.500000   0.180000      0.1300  \n",
       "19   0.390000   0.560000   0.100000      0.1700  \n",
       "20   0.589446   0.714246   0.095748      0.1248  \n",
       "21   0.020000   0.020000   0.020000      0.0200  \n",
       "\n",
       "[5 rows x 42 columns]"
      ]
     },
     "execution_count": 10,
     "metadata": {},
     "output_type": "execute_result"
    }
   ],
   "source": [
    "vms_miner = pd.read_excel(\"https://www.hydroshare.org/resource/82a50af377e14df0bdb994a982b24634/data/contents/mineral_database_vms.xlsx\")\n",
    "# clean up column names\n",
    "vms_miner.columns = [c.replace(' ', '_') for c in vms_miner.columns]\n",
    "vms_miner.columns = [c.replace('%', 'per') for c in vms_miner.columns]\n",
    "vms_miner.columns = [c.replace('(', '') for c in vms_miner.columns]\n",
    "vms_miner.columns = [c.replace(')', '') for c in vms_miner.columns]\n",
    "vms_miner.columns = [c.replace('/', '_') for c in vms_miner.columns]\n",
    "# check\n",
    "vms_miner.tail(5)"
   ]
  },
  {
   "cell_type": "markdown",
   "metadata": {
    "id": "cVNKPfvFh8lz"
   },
   "source": [
    "## import bulk density data"
   ]
  },
  {
   "cell_type": "code",
   "execution_count": 11,
   "metadata": {},
   "outputs": [],
   "source": [
    "bulk_den = pd.read_excel(\"https://www.hydroshare.org/resource/82a50af377e14df0bdb994a982b24634/data/contents/bulk_density_vms.xlsx\")"
   ]
  },
  {
   "cell_type": "code",
   "execution_count": 12,
   "metadata": {
    "colab": {
     "base_uri": "https://localhost:8080/",
     "height": 270
    },
    "executionInfo": {
     "elapsed": 10,
     "status": "ok",
     "timestamp": 1649869150192,
     "user": {
      "displayName": "Alison K Tune",
      "userId": "02427951148635427345"
     },
     "user_tz": 300
    },
    "id": "qI3F4kYfB6L1",
    "outputId": "c0011807-bceb-419f-f509-3513ac8e584f"
   },
   "outputs": [
    {
     "data": {
      "text/html": [
       "<div>\n",
       "<style scoped>\n",
       "    .dataframe tbody tr th:only-of-type {\n",
       "        vertical-align: middle;\n",
       "    }\n",
       "\n",
       "    .dataframe tbody tr th {\n",
       "        vertical-align: top;\n",
       "    }\n",
       "\n",
       "    .dataframe thead th {\n",
       "        text-align: right;\n",
       "    }\n",
       "</style>\n",
       "<table border=\"1\" class=\"dataframe\">\n",
       "  <thead>\n",
       "    <tr style=\"text-align: right;\">\n",
       "      <th></th>\n",
       "      <th>site_name</th>\n",
       "      <th>sample_name</th>\n",
       "      <th>depth_interval_start_m</th>\n",
       "      <th>depth_interval_end_m</th>\n",
       "      <th>avg_depth_m</th>\n",
       "      <th>accupyc_avg_absolut_denisty_g_cm3</th>\n",
       "      <th>accupyc_std_dev_absolute_density_g_cm3</th>\n",
       "      <th>geopyc_avg_envelope_density_g_cm3</th>\n",
       "      <th>geopyc_std_dev_envelope_density_g_cm3</th>\n",
       "      <th>avg_bulk_methods</th>\n",
       "      <th>avg_bulk_den</th>\n",
       "    </tr>\n",
       "  </thead>\n",
       "  <tbody>\n",
       "    <tr>\n",
       "      <th>15</th>\n",
       "      <td>rivendell</td>\n",
       "      <td>VMS Hole 2</td>\n",
       "      <td>18.898</td>\n",
       "      <td>19.202</td>\n",
       "      <td>19.05</td>\n",
       "      <td>2.6796</td>\n",
       "      <td>0.0053</td>\n",
       "      <td>2.5755</td>\n",
       "      <td>0.0041</td>\n",
       "      <td>2.62755</td>\n",
       "      <td>2546172.5</td>\n",
       "    </tr>\n",
       "    <tr>\n",
       "      <th>16</th>\n",
       "      <td>NaN</td>\n",
       "      <td>NaN</td>\n",
       "      <td>NaN</td>\n",
       "      <td>NaN</td>\n",
       "      <td>NaN</td>\n",
       "      <td>NaN</td>\n",
       "      <td>NaN</td>\n",
       "      <td>NaN</td>\n",
       "      <td>NaN</td>\n",
       "      <td>NaN</td>\n",
       "      <td>NaN</td>\n",
       "    </tr>\n",
       "    <tr>\n",
       "      <th>17</th>\n",
       "      <td>NaN</td>\n",
       "      <td>NaN</td>\n",
       "      <td>NaN</td>\n",
       "      <td>NaN</td>\n",
       "      <td>NaN</td>\n",
       "      <td>NaN</td>\n",
       "      <td>NaN</td>\n",
       "      <td>NaN</td>\n",
       "      <td>NaN</td>\n",
       "      <td>NaN</td>\n",
       "      <td>NaN</td>\n",
       "    </tr>\n",
       "    <tr>\n",
       "      <th>18</th>\n",
       "      <td>NaN</td>\n",
       "      <td>NaN</td>\n",
       "      <td>NaN</td>\n",
       "      <td>NaN</td>\n",
       "      <td>NaN</td>\n",
       "      <td>0.6656</td>\n",
       "      <td>0.6656</td>\n",
       "      <td>NaN</td>\n",
       "      <td>NaN</td>\n",
       "      <td>NaN</td>\n",
       "      <td>NaN</td>\n",
       "    </tr>\n",
       "    <tr>\n",
       "      <th>19</th>\n",
       "      <td>NaN</td>\n",
       "      <td>NaN</td>\n",
       "      <td>NaN</td>\n",
       "      <td>NaN</td>\n",
       "      <td>NaN</td>\n",
       "      <td>0.2080</td>\n",
       "      <td>NaN</td>\n",
       "      <td>NaN</td>\n",
       "      <td>NaN</td>\n",
       "      <td>NaN</td>\n",
       "      <td>NaN</td>\n",
       "    </tr>\n",
       "  </tbody>\n",
       "</table>\n",
       "</div>"
      ],
      "text/plain": [
       "    site_name sample_name  depth_interval_start_m  depth_interval_end_m  \\\n",
       "15  rivendell  VMS Hole 2                  18.898                19.202   \n",
       "16        NaN         NaN                     NaN                   NaN   \n",
       "17        NaN         NaN                     NaN                   NaN   \n",
       "18        NaN         NaN                     NaN                   NaN   \n",
       "19        NaN         NaN                     NaN                   NaN   \n",
       "\n",
       "    avg_depth_m  accupyc_avg_absolut_denisty_g_cm3  \\\n",
       "15        19.05                             2.6796   \n",
       "16          NaN                                NaN   \n",
       "17          NaN                                NaN   \n",
       "18          NaN                             0.6656   \n",
       "19          NaN                             0.2080   \n",
       "\n",
       "    accupyc_std_dev_absolute_density_g_cm3  geopyc_avg_envelope_density_g_cm3  \\\n",
       "15                                  0.0053                             2.5755   \n",
       "16                                     NaN                                NaN   \n",
       "17                                     NaN                                NaN   \n",
       "18                                  0.6656                                NaN   \n",
       "19                                     NaN                                NaN   \n",
       "\n",
       "    geopyc_std_dev_envelope_density_g_cm3  avg_bulk_methods  avg_bulk_den  \n",
       "15                                 0.0041           2.62755     2546172.5  \n",
       "16                                    NaN               NaN           NaN  \n",
       "17                                    NaN               NaN           NaN  \n",
       "18                                    NaN               NaN           NaN  \n",
       "19                                    NaN               NaN           NaN  "
      ]
     },
     "execution_count": 12,
     "metadata": {},
     "output_type": "execute_result"
    }
   ],
   "source": [
    "# make a column for the average bulk density based on the two results and add in the 5% porosity estimated by GU\n",
    "bulk_den[\"avg_bulk_methods\"] = np.nan\n",
    "bulk_den.avg_bulk_methods = np.mean([bulk_den.accupyc_avg_absolut_denisty_g_cm3,bulk_den.geopyc_avg_envelope_density_g_cm3],axis=0)\n",
    "bulk_den[\"avg_bulk_den\"] = np.nan\n",
    "bulk_den.avg_bulk_den = np.multiply(np.add(np.multiply(0.95,bulk_den.avg_bulk_methods),0.05),1000000)\n",
    "bulk_den.tail()"
   ]
  },
  {
   "cell_type": "code",
   "execution_count": 13,
   "metadata": {
    "id": "kCPvOEBw4md6"
   },
   "outputs": [],
   "source": [
    "c14gas_plottinglater = c14_gasnew"
   ]
  },
  {
   "cell_type": "markdown",
   "metadata": {
    "id": "4vq2xLFrh44_"
   },
   "source": [
    "## calculate tau"
   ]
  },
  {
   "cell_type": "code",
   "execution_count": 14,
   "metadata": {
    "id": "T6tlEjbK3_rk"
   },
   "outputs": [],
   "source": [
    "# function for tau\n",
    "def tau(imm,immbed,mob,mobbed) : return np.subtract(np.multiply(np.divide(mob,mobbed),np.divide(immbed,imm)),1)"
   ]
  },
  {
   "cell_type": "code",
   "execution_count": 15,
   "metadata": {
    "id": "Lubn45gmAURd"
   },
   "outputs": [],
   "source": [
    "# create list of dataframe columns\n",
    "columns = list(vms_miner)"
   ]
  },
  {
   "cell_type": "code",
   "execution_count": 42,
   "metadata": {},
   "outputs": [],
   "source": [
    "blank_df = vms_miner[vms_miner.Sample == 'blank']\n",
    "parent_df = vms_miner[vms_miner.Sample == 'VMS2 63-66']\n"
   ]
  },
  {
   "cell_type": "code",
   "execution_count": 43,
   "metadata": {
    "id": "24S3RNtX_3Ag"
   },
   "outputs": [],
   "source": [
    "# iterrate over dataframe to get tau for each element\n",
    "for i in columns[14:-1]:\n",
    "  vms_miner[\"tau\" + \"_\" + i] = np.nan\n",
    "  vms_miner[\"tau\" + \"_\" + i] = tau(vms_miner.Ti_wt_per,parent_df.Ti_wt_per.item(),vms_miner[i],parent_df[i].item()) \n",
    "\n"
   ]
  },
  {
   "cell_type": "markdown",
   "metadata": {},
   "source": [
    "## error in tau\n",
    "\n",
    "The duplicate samples from Bureau Veritas were exactly the same cocentration. However, the blank sample had a slight uncertainty that we will use for the error calculation"
   ]
  },
  {
   "cell_type": "code",
   "execution_count": 44,
   "metadata": {},
   "outputs": [],
   "source": [
    "# error propoagation through the tau formula\n",
    "def error_tau(error_immobile,error_mobile,immobile_weathered,immobile_parent,mobile_weathered,mobile_parent):\n",
    "    sum_errors = ((error_immobile/immobile_weathered)**2)+((error_immobile/immobile_parent)**2)+((error_mobile/mobile_weathered)**2)+((error_mobile/mobile_parent)**2)\n",
    "    tau_error = np.sqrt(sum_errors)\n",
    "    return tau_error"
   ]
  },
  {
   "cell_type": "code",
   "execution_count": 45,
   "metadata": {},
   "outputs": [],
   "source": [
    "vms_miner['OCtau_error'] = np.nan\n",
    "vms_miner.OCtau_error = error_tau(blank_df.Ti_wt_per.item(), blank_df.C_ORG_per.item(),vms_miner.Ti_wt_per,parent_df.Ti_wt_per.item(),vms_miner.C_ORG_per,parent_df.C_ORG_per.item())\n"
   ]
  },
  {
   "cell_type": "code",
   "execution_count": 47,
   "metadata": {},
   "outputs": [],
   "source": [
    "# vms_miner[['Avg_Depth_Below_Ground_Surface_m','tau_C_ORG_per','OCtau_error']]"
   ]
  },
  {
   "cell_type": "markdown",
   "metadata": {
    "id": "hOyYASiz9rzw"
   },
   "source": [
    "# Functions to convert radiocarbon units\n",
    "\n"
   ]
  },
  {
   "cell_type": "code",
   "execution_count": 15,
   "metadata": {
    "id": "EMZifHuF9sH4"
   },
   "outputs": [],
   "source": [
    "def Del2del (Del14C,del13C):\n",
    "    rightexp = np.power(np.divide(np.subtract(1,np.divide(25,1000)),np.add(1,np.divide(del13C,1000))),-2)\n",
    "    leftDel = np.add(np.divide(Del14C,1000),1)\n",
    "    mid2 = np.multiply(leftDel,rightexp)\n",
    "    mid1 = np.subtract(mid2,1)\n",
    "    del14C = np.multiply(1000,mid1)\n",
    "    return del14C\n",
    "\n",
    "def del2Del (del14C,del13C):\n",
    "    rightexp = np.power(np.divide(np.subtract(1,np.divide(25,1000)),np.add(1,np.divide(del13C,1000))),2)\n",
    "    leftDel = np.add(np.divide(del14C,1000),1)\n",
    "    mid2 = np.multiply(leftDel,rightexp)\n",
    "    mid1 = np.subtract(mid2,1)\n",
    "    Del14C = np.multiply(1000,mid1)\n",
    "    return Del14C\n",
    "\n",
    "def Del2fm (Del14C,year):\n",
    "    multright = np.exp(np.divide(np.subtract(year,1950),8267))\n",
    "    multleft = np.add(np.divide(Del14C,1000),1)\n",
    "    fm = np.multiply(multleft,multright)\n",
    "    return fm\n",
    "\n",
    "def fm2Del (fm,year):\n",
    "    multright = np.exp(np.divide(np.subtract(1950,year),8267))\n",
    "    thing = np.multiply(fm,multright)\n",
    "    Del = np.multiply(np.subtract(thing,1),1000)\n",
    "    return Del"
   ]
  },
  {
   "cell_type": "markdown",
   "metadata": {
    "id": "g1sNAv4PpZzl"
   },
   "source": [
    "# Model to find the radiocarbon value of respired co2"
   ]
  },
  {
   "cell_type": "markdown",
   "metadata": {
    "id": "bxQDr0fxyKWk"
   },
   "source": [
    "## Depth-independent Egan/Davidson 1995 Radiocarbon diffusion model"
   ]
  },
  {
   "cell_type": "markdown",
   "metadata": {
    "id": "JVnJe2cUp9ai"
   },
   "source": [
    "### Prep the data for model"
   ]
  },
  {
   "cell_type": "code",
   "execution_count": 16,
   "metadata": {
    "id": "MDBAYasyHrHd"
   },
   "outputs": [],
   "source": [
    "# atmospheric values - linear extrapolation from Graven et al. (2017) from 2000-2015 in the Northern Hemisphere\n",
    "\n",
    "ca14Del2018 = 1.14\n",
    "cal14Del2019 = -1.23\n",
    "cal13del2018 = -8.51\n",
    "cal13del2019 = -8.53\n",
    "\n",
    "cal14del2018 = Del2del(ca14Del2018,cal13del2018)\n",
    "cal14del2019 = Del2del(cal14Del2019,cal13del2019)\n",
    "co2ppmatm2018 = 408\n",
    "co2ppmatm2019 = 410"
   ]
  },
  {
   "cell_type": "code",
   "execution_count": 17,
   "metadata": {
    "id": "AfAT0gPT7CaV"
   },
   "outputs": [],
   "source": [
    "# create columns for delta14C\n",
    "c14_gasnew[\"delta14C_sept\"] = np.nan\n",
    "c14_gasnew[\"delta14C_mar\"] = np.nan\n",
    "\n",
    "# convert D14C to delta14C\n",
    "# september\n",
    "F = np.array(c14_gasnew.Dc14_sept)\n",
    "d13c = np.array(c14_gasnew.d13_sept)\n",
    "c14_gasnew.delta14C_sept = Del2del(F,d13c)\n",
    "\n",
    "# march\n",
    "F2 = np.array(c14_gasnew.Dc14_mar)\n",
    "d13c2 = np.array(c14_gasnew.d13_mar)\n",
    "c14_gasnew.delta14C_mar = Del2del(F2,d13c2)"
   ]
  },
  {
   "cell_type": "code",
   "execution_count": 18,
   "metadata": {
    "id": "YVmsLm513gvd"
   },
   "outputs": [],
   "source": [
    "# find the error for the delta values (error propogation)\n",
    "c14_gas[\"delta14C_mar\"] = np.nan\n",
    "c14_gas[\"delta14C_sept\"] = np.nan\n",
    "\n",
    "c14_gas[\"err_delta14C_mar\"] = np.nan\n",
    "c14_gas[\"err_delta14C_sept\"] = np.nan\n",
    "\n",
    "c14_gas.delta14C_mar = Del2del(c14_gas.Dc14_mar,c14_gas.d13_mar)\n",
    "c14_gas.delta14C_sept = Del2del(c14_gas.Dc14_sept,c14_gas.d13_sept)\n",
    "\n",
    "sept_err1 = (np.abs(c14_gas.delta14C_sept[5] - c14_gas.delta14C_sept[6]))/2\n",
    "mar_err1 = (np.abs(c14_gas.delta14C_mar[5] - c14_gas.delta14C_mar[6]))/2\n",
    "\n",
    "sept_err2 = (np.abs(c14_gas.delta14C_sept[2] - c14_gas.delta14C_sept[3]))/2\n",
    "mar_err2 = (np.abs(c14_gas.delta14C_mar[2] - c14_gas.delta14C_mar[3]))/2\n",
    "\n",
    "sept_err3 = (np.abs(c14_gas.delta14C_sept[8] - c14_gas.delta14C_sept[9]))/2\n",
    "mar_err3 = (np.abs(c14_gas.delta14C_mar[8] - c14_gas.delta14C_mar[9]))/2\n",
    "\n",
    "sept_err = np.nanmean([sept_err1,sept_err2,sept_err3])\n",
    "mar_err = np.nanmean([mar_err1,mar_err2,mar_err3])\n",
    "\n",
    "c14_gasnew[\"err_delta14C_mar\"] = np.nan\n",
    "c14_gasnew[\"err_delta14C_sept\"] = np.nan\n",
    "\n",
    "c14_gasnew.err_delta14C_mar = mar_err\n",
    "c14_gasnew.err_delta14C_sept = sept_err"
   ]
  },
  {
   "cell_type": "code",
   "execution_count": 19,
   "metadata": {
    "id": "VzOwJxkqavYS"
   },
   "outputs": [],
   "source": [
    "# Prep the gas data to only use the top 4 ports\n",
    "# make backup copy of the data\n",
    "c14_gasnewold = c14_gasnew\n",
    "\n",
    "# adjust c14_gasnew dataframe to only have the top four ports\n",
    "c14_gasnew = c14_gasnew.where(c14_gasnew.depth_m < 7)\n",
    "c14_gasnew = c14_gasnew.dropna()\n",
    "\n",
    "diffold = diff\n",
    "diff = diff.where(diff.VMS_gasdepth <  7)\n",
    "diff = diff.dropna()"
   ]
  },
  {
   "cell_type": "markdown",
   "metadata": {
    "id": "JtU2f7JZqA0c"
   },
   "source": [
    "### Functions for Egan model"
   ]
  },
  {
   "cell_type": "code",
   "execution_count": 20,
   "metadata": {
    "id": "GGOGSBsjyKpc"
   },
   "outputs": [],
   "source": [
    "# radiocarbon model to be applied to each depth\n",
    "def rad_source(cs, ca, dels, dela): \n",
    "    del_source = (cs*(dels-8.8)-ca*(dela-8.8))/(1.0088*(cs-ca))\n",
    "    return del_source \n",
    "\n",
    "# 13c model to be applied to each depth\n",
    "def c13_source(cs, ca, dels13, dela13):\n",
    "    del13_source = (cs*(dels13-4.4)-ca*(dela13-4.4))/(1.0044*(cs-ca))\n",
    "    return del13_source   "
   ]
  },
  {
   "cell_type": "markdown",
   "metadata": {
    "id": "S2NK9E-Mqq_P"
   },
   "source": [
    "### Run the model - these are the results from Egan"
   ]
  },
  {
   "cell_type": "code",
   "execution_count": 21,
   "metadata": {
    "id": "jDKieG23zv0w"
   },
   "outputs": [],
   "source": [
    "# March \n",
    "# run the model for radiocarbon\n",
    "c14_gasnew[\"delc14_source_mar\"] = np.nan\n",
    "c14_gasnew.delc14_source_mar = rad_source(c14_gasnew.co2_per_mar*10000,co2ppmatm2019,c14_gasnew.delta14C_mar,cal14del2019)\n",
    "\n",
    "# run the model for 13C\n",
    "c14_gasnew[\"delc13_source_mar\"] = np.nan\n",
    "c14_gasnew.delc13_source_mar = c13_source(c14_gasnew.co2_per_mar*10000,co2ppmatm2019,c14_gasnew.d13_mar,cal13del2019)\n",
    "\n",
    "# ___________________________________________________________________\n",
    "# September \n",
    "# run the model for radiocarbon\n",
    "c14_gasnew[\"delc14_source_sept\"] = np.nan\n",
    "c14_gasnew.delc14_source_sept = rad_source(c14_gasnew.co2_per_sept*10000,co2ppmatm2018,c14_gasnew.delta14C_sept,cal14del2018)\n",
    "\n",
    "# run the model for 13C\n",
    "c14_gasnew[\"delc13_source_sept\"] = np.nan\n",
    "c14_gasnew.delc13_source_sept = c13_source(c14_gasnew.co2_per_sept*10000,co2ppmatm2018,c14_gasnew.d13_sept,cal13del2018)\n"
   ]
  },
  {
   "cell_type": "markdown",
   "metadata": {
    "id": "VncIYSlztIAP"
   },
   "source": [
    "### Apply bimodal model (Hemingway) to diffusion model (Egan) results"
   ]
  },
  {
   "cell_type": "code",
   "execution_count": 26,
   "metadata": {
    "id": "aQoepCrB2JDh"
   },
   "outputs": [],
   "source": [
    "# model with Fm14 values\n",
    "c14_gas[\"co2_mol_m3_sept\"] = np.nan\n",
    "c14_gas.co2_mol_m3_sept = c14_gas.co2_per_sept*10000*(10E-6)*(1/(8.3245*284.15))\n",
    "c14_gas[\"co2_mol_m3_mar\"] = np.nan\n",
    "c14_gas.co2_mol_m3_mar = c14_gas.co2_per_mar*10000*(10E-6)*(1/(8.3245*284.15))\n",
    "# convert all the del14 source to F14 using the d13 source values\n",
    "c14_gasnew[\"D14c_source_mar\"] = np.nan\n",
    "c14_gasnew.D14c_source_mar = del2Del(c14_gasnew.delc14_source_mar,c14_gasnew.delc13_source_mar)\n",
    "c14_gasnew[\"D14c_source_sept\"] = np.nan\n",
    "c14_gasnew.D14c_source_sept = del2Del(c14_gasnew.delc14_source_sept,c14_gasnew.delc13_source_sept)\n",
    "\n",
    "c14_gasnew[\"Fmc_source_mar\"] = np.nan\n",
    "c14_gasnew.Fmc_source_mar = Del2fm(c14_gasnew.D14c_source_mar,2019)\n",
    "c14_gasnew[\"Fmc_source_sept\"] = np.nan\n",
    "c14_gasnew.Fmc_source_sept = Del2fm(c14_gasnew.D14c_source_sept,2018)\n",
    "\n",
    "onemax = np.array([np.max(c14_gasnew.Fmc_source_mar),np.max(c14_gasnew.Fmc_source_sept)])\n",
    "fracbio = np.max(onemax)\n",
    "c14_gasnew[\"min_petro_ox_source_mar\"] = np.nan\n",
    "c14_gasnew.min_petro_ox_source_mar = 100*(c14_gasnew.co2_per_mar*((fracbio-c14_gasnew.Fmc_source_mar)/fracbio))/c14_gasnew.co2_per_mar\n",
    "c14_gasnew[\"min_petro_ox_source_sept\"] = np.nan\n",
    "c14_gasnew.min_petro_ox_source_sept = 100*(c14_gasnew.co2_per_sept*((fracbio-c14_gasnew.Fmc_source_sept)/fracbio))/c14_gasnew.co2_per_sept\n"
   ]
  },
  {
   "cell_type": "markdown",
   "metadata": {
    "id": "A8ljfzOVOfho"
   },
   "source": [
    "##### ERROR CALCULATION"
   ]
  },
  {
   "cell_type": "code",
   "execution_count": 38,
   "metadata": {
    "id": "ojk_6uDemsp4"
   },
   "outputs": [],
   "source": [
    "# for radiocarbon\n",
    "def error_Del2del_conv(Del14c,errDel14c,del13c,errdel13c):\n",
    "    err_D14c1 = np.multiply(1,np.square(np.divide(np.add(1,np.divide(del13c,1000)),1-(25/1000))))\n",
    "    err_D14c = np.square(np.multiply(errDel14c,err_D14c1))\n",
    "    err_d13c1 = np.multiply(1000,np.multiply(np.square(np.add(1,np.divide(Del14c,1000))),np.divide(np.divide(np.add(1000,del13c),500000),np.square(1-(25/1000)))))\n",
    "    err_d13c = np.square(np.multiply(errdel13c,err_d13c1))\n",
    "    test = np.add(err_D14c,err_d13c)\n",
    "    err_answer = np.sqrt(test)\n",
    "    return err_answer\n",
    "\n",
    "def error_radio_resp(cs,ca,errcs,errca,del14ca,del14cs,errdel14ca,errdel14cs):\n",
    "    err_cs1 = np.divide(np.subtract(np.multiply(np.multiply(1.0088,np.subtract(cs,ca)),np.subtract(del14cs,8.8)),np.multiply(1.0088,np.subtract(np.multiply(cs,np.subtract(del14cs,8.8)),np.multiply(ca,np.subtract(del14ca,8.8))))),\n",
    "                        np.exp(np.multiply(1.0088,np.subtract(cs,ca))))\n",
    "    err_cs = np.exp(np.multiply(errcs,err_cs1))\n",
    "    err_ca1 = np.divide(np.subtract(np.multiply(np.multiply(1.0088,np.subtract(cs,ca)),np.subtract(8.8,del14ca)),np.multiply(-1.0088,np.subtract(np.multiply(cs,np.subtract(del14cs,8.8)),np.multiply(ca,np.subtract(del14ca,8.8))))),\n",
    "                        np.exp(np.multiply(1.0088,np.subtract(cs,ca))))\n",
    "    err_ca = np.square(np.multiply(errca,err_ca1))\n",
    "    err_del14cs1 = np.divide(cs,np.multiply(1.0088,np.subtract(cs,ca)))\n",
    "    err_del14cs = np.square(np.multiply(errdel14cs,err_del14cs1))\n",
    "    err_def14ca1 = np.divide(-ca,np.multiply(1.0088,np.subtract(cs,ca)))\n",
    "    err_def14ca = np.square(np.multiply(errdel14ca,err_def14ca1))\n",
    "    test = np.add(np.add(np.add(err_cs,err_ca),err_del14cs),err_def14ca)\n",
    "    err_answer = np.sqrt(test)\n",
    "    return err_answer\n",
    "\n",
    "# for stable isotopes\n",
    "def error_stab_resp(cs,ca,errcs,errca,del13ca,del13cs,errdel13ca,errdel13cs):\n",
    "    err_cs1 = np.divide(np.subtract(np.multiply(np.multiply(1.0044,np.subtract(cs,ca)),np.subtract(del13cs,4.4)),np.multiply(1.0044,np.subtract(np.multiply(cs,np.subtract(del13cs,4.4)),np.multiply(ca,np.subtract(del13ca,4.4))))),\n",
    "                        np.exp(np.multiply(1.0044,np.subtract(cs,ca))))\n",
    "    err_cs = np.exp(np.multiply(errcs,err_cs1))\n",
    "    err_ca1 = np.divide(np.subtract(np.multiply(np.multiply(1.0044,np.subtract(cs,ca)),np.subtract(4.4,del13ca)),np.multiply(-1.0044,np.subtract(np.multiply(cs,np.subtract(del13cs,4.4)),np.multiply(ca,np.subtract(del13ca,4.4))))),\n",
    "                        np.exp(np.multiply(1.0044,np.subtract(cs,ca))))\n",
    "    err_ca = np.square(np.multiply(errca,err_ca1))\n",
    "    err_del13cs1 = np.divide(cs,np.multiply(1.0044,np.subtract(cs,ca)))\n",
    "    err_del13cs = np.square(np.multiply(errdel13cs,err_del13cs1))\n",
    "    err_def13ca1 = np.divide(-ca,np.multiply(1.0044,np.subtract(cs,ca)))\n",
    "    err_def13ca = np.square(np.multiply(errdel13ca,err_def13ca1))\n",
    "    test = np.add(np.add(np.add(err_cs,err_ca),err_del13cs),err_def13ca)\n",
    "    err_answer = np.sqrt(test)\n",
    "    return err_answer\n",
    "\n",
    "def error_del2Del_conv(del14c,errdel14c,del13c,errdel13c):\n",
    "    err_d14c1 = np.square(np.divide(1-(25/1000),np.add(1,np.divide(del13c,1000))))\n",
    "    err_d14c = np.square(np.multiply(errdel14c,err_d14c1))\n",
    "    err_d13c1 = np.divide(np.multiply(del14c,2000000*(np.square(1-(25/1000)))),np.power(np.add(del13c,1000),3))\n",
    "    err_d13c = np.square(np.multiply(errdel13c,err_d13c1))\n",
    "    test = np.add(err_d14c,err_d13c)\n",
    "    err_answer = np.sqrt(test)\n",
    "    return err_answer\n",
    "\n",
    "def error_hemingway(Fm_s_err,Fm_s,Fm_bio_err,Fm_bio,hem_percent):\n",
    "    err1 = np.sqrt(np.add(np.square(np.divide(Fm_s_err,Fm_s)),np.square(np.divide(Fm_bio_err,Fm_bio))))\n",
    "    err_answer = np.multiply(1,err1)\n",
    "    return err_answer"
   ]
  },
  {
   "cell_type": "code",
   "execution_count": 39,
   "metadata": {
    "id": "ipN_ajl8DVyQ"
   },
   "outputs": [],
   "source": [
    "# error in del14c from Del14c\n",
    "c14_gasnew[\"err_d14c_sept\"] = np.nan\n",
    "c14_gasnew.err_d14c_sept = error_Del2del_conv(c14_gasnew.Dc14_sept,c14_gasnew.D_uncert_sept,c14_gasnew.d13_sept,c14_gasnew.d13_error)\n",
    "\n",
    "c14_gasnew[\"err_d14c_mar\"] = np.nan\n",
    "c14_gasnew.err_d14c_mar = error_Del2del_conv(c14_gasnew.Dc14_mar,c14_gasnew.D_uncert_mar,c14_gasnew.d13_mar,c14_gasnew.d13_error)"
   ]
  },
  {
   "cell_type": "code",
   "execution_count": 40,
   "metadata": {
    "id": "cs_qC0fWFybD"
   },
   "outputs": [],
   "source": [
    "# error in the source value after propogating\n",
    "c14_gasnew[\"err_resp_d14c_sept\"] = np.nan\n",
    "c14_gasnew.err_resp_d14c_sept = error_radio_resp(c14_gasnew.co2_per_sept,co2ppmatm2018/10000,0.1,0.001,cal14del2018,c14_gasnew.delta14C_sept,np.nanmean(c14_gasnew.err_d14c_sept),c14_gasnew.err_d14c_sept)\n",
    "\n",
    "c14_gasnew[\"err_resp_d13c_sept\"] = np.nan\n",
    "c14_gasnew.err_resp_d13c_sept = error_stab_resp(c14_gasnew.co2_per_sept,co2ppmatm2018/10000,0.1,0.001,cal13del2018,c14_gasnew.d13_sept,0.15,c14_gasnew.d13_error)\n",
    "\n",
    "c14_gasnew[\"err_resp_d14c_mar\"] = np.nan\n",
    "c14_gasnew.err_resp_d14c_mar = error_radio_resp(c14_gasnew.co2_per_mar,co2ppmatm2019/10000,0.1,0.001,cal14del2019,c14_gasnew.delta14C_mar,np.nanmean(c14_gasnew.err_d14c_mar),c14_gasnew.err_d14c_mar)\n",
    "\n",
    "c14_gasnew[\"err_resp_d13c_mar\"] = np.nan\n",
    "c14_gasnew.err_resp_d13c_mar = error_stab_resp(c14_gasnew.co2_per_mar,co2ppmatm2019/10000,0.1,0.001,cal13del2019,c14_gasnew.d13_mar,0.15,c14_gasnew.d13_error)\n"
   ]
  },
  {
   "cell_type": "code",
   "execution_count": 41,
   "metadata": {
    "id": "mRCzz4gQOIHH"
   },
   "outputs": [],
   "source": [
    "# error in the source value after turning back into Del\n",
    "c14_gasnew[\"err_resp_D14c_sept\"] = np.nan\n",
    "c14_gasnew.err_resp_D14c_sept = error_del2Del_conv(c14_gasnew.delc14_source_sept,c14_gasnew.err_resp_d14c_sept,c14_gasnew.delc13_source_sept,c14_gasnew.err_resp_d13c_sept)\n",
    "\n",
    "c14_gasnew[\"err_resp_D14c_mar\"] = np.nan\n",
    "c14_gasnew.err_resp_D14c_mar = error_del2Del_conv(c14_gasnew.delc14_source_sept,c14_gasnew.err_resp_d14c_sept,c14_gasnew.delc13_source_sept,c14_gasnew.err_resp_d13c_sept)"
   ]
  },
  {
   "cell_type": "code",
   "execution_count": 42,
   "metadata": {
    "id": "B2Un2o0sa-Vw"
   },
   "outputs": [],
   "source": [
    "# error in the source value after turning into Fm from Del\n",
    "c14_gasnew[\"err_resp_fm_sept\"] = np.nan\n",
    "c14_gasnew.err_resp_fm_sept = Del2fm(c14_gasnew.err_resp_D14c_sept,2018)-1\n",
    "c14_gasnew[\"err_resp_fm_mar\"] = np.nan\n",
    "c14_gasnew.err_resp_fm_mar = Del2fm(c14_gasnew.err_resp_D14c_mar,2019)-1"
   ]
  },
  {
   "cell_type": "code",
   "execution_count": 43,
   "metadata": {
    "id": "eiSQbLGXk9Xp"
   },
   "outputs": [],
   "source": [
    "# error in the hemingway calculation\n",
    "fracbio_err = c14_gasnew.err_resp_fm_mar.iloc[0]\n",
    "\n",
    "c14_gasnew[\"err_min_petro_ox_source_sept\"] = np.nan\n",
    "c14_gasnew.err_min_petro_ox_source_sept = error_hemingway(c14_gasnew.err_resp_fm_sept,c14_gasnew.Fmc_source_sept,fracbio_err,fracbio,c14_gasnew.min_petro_ox_source_sept)\n",
    "\n",
    "c14_gasnew[\"err_min_petro_ox_source_mar\"] = np.nan\n",
    "c14_gasnew.err_min_petro_ox_source_mar = error_hemingway(c14_gasnew.err_resp_fm_mar,c14_gasnew.Fmc_source_mar,fracbio_err,fracbio,c14_gasnew.min_petro_ox_source_mar)"
   ]
  },
  {
   "cell_type": "markdown",
   "metadata": {
    "id": "P9zYB8qzvUKo"
   },
   "source": [
    "### Apply the Hemingway binary model to results"
   ]
  },
  {
   "cell_type": "code",
   "execution_count": 47,
   "metadata": {
    "id": "7giumxisrpTF"
   },
   "outputs": [],
   "source": [
    "# function for hemingway model\n",
    "def hemsolid(perOCsoil,fsoil,fbio):\n",
    "  result1 = np.multiply(perOCsoil,np.subtract(1,np.divide(fsoil,fbio)))\n",
    "  return result1\n",
    "\n",
    "def hemgas(fsoil,fbio): \n",
    "  result1 = np.multiply(100,np.subtract(1,np.divide(fsoil,fbio)))\n",
    "  return result1"
   ]
  },
  {
   "cell_type": "code",
   "execution_count": 62,
   "metadata": {
    "colab": {
     "base_uri": "https://localhost:8080/",
     "height": 354
    },
    "executionInfo": {
     "elapsed": 1384,
     "status": "ok",
     "timestamp": 1649869185209,
     "user": {
      "displayName": "Alison K Tune",
      "userId": "02427951148635427345"
     },
     "user_tz": 300
    },
    "id": "88UMleQ9TMwM",
    "outputId": "db9292c9-1957-49a5-bcc0-71cfe0c8ec51"
   },
   "outputs": [
    {
     "data": {
      "image/png": "[encoded data removed]",
      "text/plain": [
       "<Figure size 1200x500 with 3 Axes>"
      ]
     },
     "metadata": {},
     "output_type": "display_data"
    }
   ],
   "source": [
    "variable4 = 1000\n",
    "variable5 = 8\n",
    "sizeinterp = 3\n",
    "xlimiso = 0.04\n",
    "from matplotlib import gridspec\n",
    "\n",
    "gs = gridspec.GridSpec(1, 3, width_ratios=[3,3,1], height_ratios= [1]) \n",
    "plt.subplots(nrows = 1, ncols=3, figsize=(12,5), gridspec_kw={\"width_ratios\":[100,100, 0.001]})\n",
    "colors = plt.cm.copper(np.linspace(0,1,np.size(c14_gasnew.depth_m)))\n",
    "colors = colors[::-1]\n",
    "\n",
    "test1 = list(range(0, np.size(c14_gasnew.depth_m)))\n",
    "\n",
    "# ______________________________________________________________\n",
    "plt.subplot(gs[0])\n",
    "colors = colors[::-1]\n",
    "\n",
    "colors = plt.cm.copper(np.linspace(0,1,c14_gasnew.depth_m.size))\n",
    "colors = colors[::-1]\n",
    "\n",
    "plt.errorbar(del2Del(np.divide(c14_gasnew.delc14_source_mar,1),np.divide(c14_gasnew.delc13_source_mar,1)),np.divide(c14_gasnew.depth_m,variable5),\n",
    "             xerr=c14_gasnew.err_resp_D14c_mar ,fmt='.',ecolor='black', elinewidth=3, capsize=4, alpha = 0.4,zorder=1)\n",
    "plt.errorbar(del2Del(np.divide(c14_gasnew.delc14_source_sept,1),np.divide(c14_gasnew.delc13_source_sept,1)),np.divide(c14_gasnew.depth_m,variable5),\n",
    "             xerr=c14_gasnew.err_resp_D14c_sept ,fmt='.',ecolor='black', elinewidth=3, capsize=4, alpha = 0.4,zorder=2)\n",
    "plt.scatter(del2Del(np.divide(c14_gasnew.delc14_source_mar,1),np.divide(c14_gasnew.delc13_source_mar,1)),np.divide(c14_gasnew.depth_m,variable5),color =colors, edgecolor= 'k',marker='s', label = 'March model results',zorder=3)\n",
    "plt.scatter(del2Del(np.divide(c14_gasnew.delc14_source_sept,1),np.divide(c14_gasnew.delc13_source_sept,1)),np.divide(c14_gasnew.depth_m,variable5),color =colors, edgecolor= 'k',marker='o', label = 'Sept. model results',zorder=4)\n",
    "\n",
    "plt.xlabel('$\\Delta^{14}CO_{2,respired}$',fontsize=13,labelpad=10)\n",
    "plt.ylabel('Dimensionless Depth',fontsize=13,labelpad=10)\n",
    "plt.gca().set_ylim([0, 1])\n",
    "plt.gca().set_xlim([10, 30])\n",
    "plt.gca().invert_yaxis()\n",
    "plt.legend(loc='lower center',bbox_to_anchor=(0.7, 0.03))\n",
    "plt.grid()\n",
    "\n",
    "plt.subplot(gs[1])\n",
    "colors = colors[::-1]\n",
    "\n",
    "colors = plt.cm.copper(np.linspace(0,1,c14_gasnew.depth_m.size))\n",
    "colors = colors[::-1]\n",
    "\n",
    "plt.errorbar(np.divide(c14_gasnew.delc13_source_mar,1),np.divide(c14_gasnew.depth_m,variable5),\n",
    "             xerr=c14_gasnew.err_resp_d13c_mar ,fmt='.',ecolor='black', elinewidth=3, capsize=4, alpha = 0.4,zorder=1)\n",
    "plt.errorbar(np.divide(c14_gasnew.delc13_source_sept,1),np.divide(c14_gasnew.depth_m,variable5),\n",
    "             xerr=c14_gasnew.err_resp_d13c_sept ,fmt='.',ecolor='black', elinewidth=3, capsize=4, alpha = 0.4,zorder=2)\n",
    "\n",
    "plt.scatter(np.divide(c14_gasnew.delc13_source_mar,1),np.divide(c14_gasnew.depth_m,variable5),color =colors, edgecolor= 'k',marker='s', label = 'March model results',zorder=3)\n",
    "plt.scatter(np.divide(c14_gasnew.delc13_source_sept,1),np.divide(c14_gasnew.depth_m,variable5),color =colors, edgecolor= 'k',marker='o', label = 'Sept. model results',zorder=4)\n",
    "\n",
    "plt.xlabel('$\\delta^{13}CO_{2,respired}$',fontsize=13,labelpad=10)\n",
    "plt.gca().set_ylim([0, 1])\n",
    "plt.gca().set_xlim([-30, -24])\n",
    "plt.gca().invert_yaxis()\n",
    "plt.legend(loc='lower center',bbox_to_anchor=(0.7, 0.03))\n",
    "plt.grid()\n",
    "\n",
    "ax2 = plt.gca()\n",
    "\n",
    "plt.subplot(gs[2])\n",
    "\n",
    "ax = plt.gca()\n",
    "\n",
    "axp = ax.imshow(np.random.randint(0, 4, (4, 4)),cmap='copper')\n",
    "cbar = plt.colorbar(axp,ax=[ax], location='left', ticks=[0,1,2,3])\n",
    "\n",
    "cbar.ax.set_yticklabels([c14_gasnew.depth_m.iloc[3], c14_gasnew.depth_m.iloc[2],c14_gasnew.depth_m.iloc[1],c14_gasnew.depth_m.iloc[0]],rotation='vertical',verticalalignment='center')  # vertically oriented colorbar\n",
    "cbar.set_label('Depth (m)')\n",
    "ax.set_aspect('auto')\n",
    "ax.remove()\n",
    "plt.subplots_adjust(hspace=0.5)\n",
    "plt.subplots_adjust(wspace=0.3)\n",
    "\n",
    "# # ______________________________________________\n",
    "# fig1 = plt.gcf()\n",
    "# fig1.savefig('diffusionplot14c.pdf', dpi=fig1.dpi)\n",
    "# files.download(\"diffusionplot14c.pdf\")"
   ]
  },
  {
   "cell_type": "markdown",
   "metadata": {
    "id": "oUCfeFjyP0dD"
   },
   "source": [
    "## Plot the hemingway results"
   ]
  },
  {
   "cell_type": "markdown",
   "metadata": {
    "id": "bJXVoClxyh1D"
   },
   "source": [
    "# this is where change air-filled"
   ]
  },
  {
   "cell_type": "code",
   "execution_count": 64,
   "metadata": {
    "id": "7ZmOR5nPoiK5"
   },
   "outputs": [],
   "source": [
    "# flux calculations for the sampled dates\n",
    "fb5_mar2019 =0.0237*12.01;\n",
    "fb10_mar2019 =0.0473*12.01;\n",
    "\n",
    "fb5_sept2018 = 0.0270*12.01;\n",
    "fb10_sept2018 = 0.0539*12.01;\n",
    "\n",
    "farq5_mar2019 = 0.3170;\n",
    "farq10_mar2019 = 0.6340;\n",
    "\n",
    "farq5_sept2018 = 0.9330;\n",
    "farq10_sept2018 =  1.8660;"
   ]
  },
  {
   "cell_type": "code",
   "execution_count": 67,
   "metadata": {
    "id": "8VGlWjTh4AZp"
   },
   "outputs": [],
   "source": [
    "diff4fun = diff.set_index([pd.Index([1, 2, 4, 5])])"
   ]
  },
  {
   "cell_type": "code",
   "execution_count": 68,
   "metadata": {
    "id": "u5PqZd0lR6rx"
   },
   "outputs": [],
   "source": [
    "# # calculate the flux of oxidized carbon with depth\n",
    "c14_gasnew[\"petro_mar_fb5\"] = np.nan\n",
    "c14_gasnew.petro_mar_fb5 = np.multiply(((diff4fun[\"air-filled_por_may\"]-0.01)/0.05)*(fb5_mar2019/4),c14_gasnew.min_petro_ox_source_mar/100)\n",
    "c14_gasnew[\"petro_mar_fb10\"] = np.nan\n",
    "c14_gasnew.petro_mar_fb10 = np.multiply(((diff4fun[\"air-filled_por_may\"]+0.01)/0.05)*(fb10_mar2019/4),c14_gasnew.min_petro_ox_source_mar/100)\n",
    "c14_gasnew[\"petro_sep_fb5\"] = np.nan\n",
    "c14_gasnew.petro_sep_fb5 = np.multiply(((diff4fun[\"air-filled_por_oct\"]-0.01)/0.05)*(fb5_sept2018/4),c14_gasnew.min_petro_ox_source_sept/100)\n",
    "c14_gasnew[\"petro_sep_fb10\"] = np.nan\n",
    "c14_gasnew.petro_sep_fb10 = np.multiply(((diff4fun[\"air-filled_por_oct\"]+0.01)/0.05)*(fb10_sept2018/4),c14_gasnew.min_petro_ox_source_sept/100)\n",
    "\n",
    "c14_gasnew[\"petro_mar_farq5\"] = np.nan\n",
    "c14_gasnew.petro_mar_farq5 = np.multiply(((diff4fun[\"air-filled_por_may\"]-0.01)/0.05)*(farq5_mar2019/4),c14_gasnew.min_petro_ox_source_mar/100)\n",
    "c14_gasnew[\"petro_mar_farq10\"] = np.nan\n",
    "c14_gasnew.petro_mar_farq10 = np.multiply(((diff4fun[\"air-filled_por_may\"]+0.01)/0.05)*(farq10_mar2019/4),c14_gasnew.min_petro_ox_source_mar/100)\n",
    "c14_gasnew[\"petro_sep_farq5\"] = np.nan\n",
    "c14_gasnew.petro_sep_farq5 = np.multiply(((diff4fun[\"air-filled_por_oct\"]-0.01)/0.05)*(farq5_sept2018/4),c14_gasnew.min_petro_ox_source_sept/100)\n",
    "c14_gasnew[\"petro_sep_farq10\"] = np.nan\n",
    "c14_gasnew.petro_sep_farq10 = np.multiply(((diff4fun[\"air-filled_por_oct\"]+0.01)/0.05)*(farq10_sept2018/4),c14_gasnew.min_petro_ox_source_sept/100)"
   ]
  },
  {
   "cell_type": "markdown",
   "metadata": {
    "id": "Rh18Ki-FdjzM"
   },
   "source": [
    "### Calculate the flux of co2 directly"
   ]
  },
  {
   "cell_type": "code",
   "execution_count": 70,
   "metadata": {
    "colab": {
     "base_uri": "https://localhost:8080/"
    },
    "executionInfo": {
     "elapsed": 16,
     "status": "ok",
     "timestamp": 1649869188873,
     "user": {
      "displayName": "Alison K Tune",
      "userId": "02427951148635427345"
     },
     "user_tz": 300
    },
    "id": "s4lZPj9M5hh0",
    "outputId": "34894ca3-0762-4023-873d-325c3d6aa2c2"
   },
   "outputs": [
    {
     "data": {
      "text/plain": [
       "0    4.811026e-07\n",
       "1    4.912674e-07\n",
       "2    4.882111e-07\n",
       "Name: d_m2_s_mar, dtype: float64"
      ]
     },
     "execution_count": 70,
     "metadata": {},
     "output_type": "execute_result"
    }
   ],
   "source": [
    "diff.d_m2_s_mar.iloc[0:3]"
   ]
  },
  {
   "cell_type": "code",
   "execution_count": 71,
   "metadata": {
    "id": "ZNuf96GC4yvm"
   },
   "outputs": [],
   "source": [
    "# calculate the flux of co2 for that day\n",
    "c14_gasnew[\"co2_mol_m3_sept\"] = np.nan\n",
    "c14_gasnew.co2_mol_m3_sept = c14_gasnew.co2_per_sept*10000*101325*(1E-6)*(1/(8.3245*284.15))\n",
    "c14_gasnew[\"co2_mol_m3_mar\"] = np.nan\n",
    "c14_gasnew.co2_mol_m3_mar = c14_gasnew.co2_per_mar*10000*101325*(1E-6)*(1/(8.3245*284.15))\n",
    "\n",
    "c14_gasnew[\"o2_mol_m3_sept\"] = np.nan\n",
    "c14_gasnew.o2_mol_m3_sept = c14_gasnew.o2_per_sept*10000*101325*(1E-6)*(1/(8.3245*284.15))\n",
    "c14_gasnew[\"o2_mol_m3_mar\"] = np.nan\n",
    "c14_gasnew.o2_mol_m3_mar = c14_gasnew.o2_per_mar*10000*101325*(1E-6)*(1/(8.3245*284.15))\n",
    "\n",
    "linear_mar = linregress(c14_gasnew.depth_m.iloc[0:3],c14_gasnew.co2_mol_m3_mar.iloc[0:3])\n",
    "linear_sept = linregress(c14_gasnew.depth_m.iloc[0:3],c14_gasnew.co2_mol_m3_sept.iloc[0:3])\n",
    "linearo2_mar = linregress(c14_gasnew.depth_m.iloc[0:3],c14_gasnew.o2_mol_m3_mar.iloc[0:3])\n",
    "linearo2_sept = linregress(c14_gasnew.depth_m.iloc[0:3],c14_gasnew.o2_mol_m3_sept.iloc[0:3])\n",
    "\n",
    "hmean_mar = hmean(diff.d_m2_s_mar.iloc[0:3])\n",
    "hmean_sept = hmean(diff.d_m2_s_sept.iloc[0:3])\n",
    "\n",
    "hmean_mar_05 = hmean(diff.d_m2_s_mar_5.iloc[0:3]*(diff[\"air-filled_por_may\"].iloc[0:3]-0.01)/0.05)\n",
    "hmean_mar_10 = hmean(diff.d_m2_s_mar_10.iloc[0:3]*(diff[\"air-filled_por_may\"].iloc[0:3]+0.01)/0.1)\n",
    "\n",
    "hmean_sept_05 = hmean(diff.d_m2_s_sept_5.iloc[0:3]*(diff[\"air-filled_por_oct\"].iloc[0:3]-0.01)/0.05)\n",
    "hmean_sept_10 = hmean(diff.d_m2_s_sept_10.iloc[0:3]*(diff[\"air-filled_por_oct\"].iloc[0:3]+0.01)/0.1)\n",
    "\n",
    "J_gC_m2_day_mar = hmean_mar*linear_mar.slope*60*60*24*12.01\n",
    "J_gC_m2_day_sept = hmean_sept*linear_sept.slope*60*60*24*12.01\n",
    "\n",
    "J_gC_m2_day_mar_05 = hmean_mar_05*linear_mar.slope*60*60*24*12.01\n",
    "J_gC_m2_day_mar_10 = hmean_mar_10*linear_mar.slope*60*60*24*12.01\n",
    "J_gC_m2_day_sept_05 = hmean_sept_05*linear_sept.slope*60*60*24*12.01\n",
    "J_gC_m2_day_sept_10 = hmean_sept_10*linear_sept.slope*60*60*24*12.01\n",
    "\n",
    "c14_gasnew.petro_mar_fb5 = (J_gC_m2_day_mar_05/4)*c14_gasnew.min_petro_ox_source_mar/100;\n",
    "c14_gasnew.petro_mar_fb10 = (J_gC_m2_day_mar_10/4)*c14_gasnew.min_petro_ox_source_mar/100;\n",
    "c14_gasnew.petro_sep_fb5 = (J_gC_m2_day_sept_05/4)*c14_gasnew.min_petro_ox_source_sept/100;\n",
    "c14_gasnew.petro_sep_fb10 = (J_gC_m2_day_sept_10/4)*c14_gasnew.min_petro_ox_source_sept/100;\n",
    "\n",
    "coeff = 0.9\n",
    "ARQ_mar = -0.76*(linear_mar.slope/linearo2_mar.slope)\n",
    "ARQ_sept = -0.76*(linear_sept.slope/linearo2_sept.slope)\n",
    "\n",
    "J_ARQ_gCm2day_mar = J_gC_m2_day_mar*(coeff/ARQ_mar)\n",
    "J_ARQ_gCm2day_sept = J_gC_m2_day_sept*(coeff/ARQ_sept)\n",
    "\n",
    "c14_gasnew[\"petro_mar_farqreal\"] = np.nan\n",
    "c14_gasnew.petro_mar_farqreal = (J_ARQ_gCm2day_mar/4)*c14_gasnew.min_petro_ox_source_mar/100\n",
    "c14_gasnew[\"petro_sept_farqreal\"] = np.nan\n",
    "c14_gasnew.petro_sept_farqreal = (J_ARQ_gCm2day_sept/4)*c14_gasnew.min_petro_ox_source_sept/100\n",
    "\n",
    "c14_gasnew[\"petro_mar_fbreal\"] = np.nan\n",
    "c14_gasnew.petro_mar_fbreal = (J_gC_m2_day_mar/4)*c14_gasnew.min_petro_ox_source_mar/100\n",
    "c14_gasnew[\"petro_sept_fbreal\"] = np.nan\n",
    "c14_gasnew.petro_sept_fbreal = (J_gC_m2_day_sept/4)*c14_gasnew.min_petro_ox_source_sept/100\n",
    "\n",
    "petro_mar_fbreal_tot = np.sum(c14_gasnew.petro_mar_fbreal)*365 # in gC/m2/yr\n",
    "petro_sept_fbreal_tot = np.sum(c14_gasnew.petro_sept_fbreal)*365 # in gC/m2/yr"
   ]
  },
  {
   "cell_type": "code",
   "execution_count": 72,
   "metadata": {
    "colab": {
     "base_uri": "https://localhost:8080/"
    },
    "executionInfo": {
     "elapsed": 20,
     "status": "ok",
     "timestamp": 1649869189231,
     "user": {
      "displayName": "Alison K Tune",
      "userId": "02427951148635427345"
     },
     "user_tz": 300
    },
    "id": "TXXQFszdCYu4",
    "outputId": "2b55a658-c19b-4c83-bb11-37e65047c89d"
   },
   "outputs": [
    {
     "data": {
      "text/plain": [
       "0.35863999766996624"
      ]
     },
     "execution_count": 72,
     "metadata": {},
     "output_type": "execute_result"
    }
   ],
   "source": [
    "max(c14_gasnew.petro_sept_fbreal*365)"
   ]
  },
  {
   "cell_type": "code",
   "execution_count": 73,
   "metadata": {
    "colab": {
     "base_uri": "https://localhost:8080/"
    },
    "executionInfo": {
     "elapsed": 14,
     "status": "ok",
     "timestamp": 1649869189231,
     "user": {
      "displayName": "Alison K Tune",
      "userId": "02427951148635427345"
     },
     "user_tz": 300
    },
    "id": "reKzdBhdSrZo",
    "outputId": "0fe0492d-2368-4267-f7b9-7850dba58f59"
   },
   "outputs": [
    {
     "data": {
      "text/plain": [
       "0.5333768836866204"
      ]
     },
     "execution_count": 73,
     "metadata": {},
     "output_type": "execute_result"
    }
   ],
   "source": [
    "J_gC_m2_day_sept"
   ]
  },
  {
   "cell_type": "code",
   "execution_count": 74,
   "metadata": {
    "colab": {
     "base_uri": "https://localhost:8080/"
    },
    "executionInfo": {
     "elapsed": 10,
     "status": "ok",
     "timestamp": 1649869189232,
     "user": {
      "displayName": "Alison K Tune",
      "userId": "02427951148635427345"
     },
     "user_tz": 300
    },
    "id": "YrvCgazs0A96",
    "outputId": "51d21249-32c8-494e-f357-87dc27fbf8af"
   },
   "outputs": [
    {
     "data": {
      "text/plain": [
       "0.35863999766996624"
      ]
     },
     "execution_count": 74,
     "metadata": {},
     "output_type": "execute_result"
    }
   ],
   "source": [
    "np.max(c14_gasnew.petro_sept_fbreal)*365"
   ]
  },
  {
   "cell_type": "markdown",
   "metadata": {
    "id": "fyJ5Ppt2fWi7"
   },
   "source": [
    "### Plot it"
   ]
  },
  {
   "cell_type": "code",
   "execution_count": 76,
   "metadata": {
    "colab": {
     "base_uri": "https://localhost:8080/"
    },
    "executionInfo": {
     "elapsed": 21,
     "status": "ok",
     "timestamp": 1649869189686,
     "user": {
      "displayName": "Alison K Tune",
      "userId": "02427951148635427345"
     },
     "user_tz": 300
    },
    "id": "oOkUPbCL1YPI",
    "outputId": "4c4d0dba-93d9-4fe8-9610-1c1e0359acfd"
   },
   "outputs": [
    {
     "data": {
      "text/plain": [
       "1    0.000000\n",
       "2    0.651865\n",
       "4    0.693617\n",
       "5    0.993979\n",
       "Name: min_petro_ox_source_mar, dtype: float64"
      ]
     },
     "execution_count": 76,
     "metadata": {},
     "output_type": "execute_result"
    }
   ],
   "source": [
    "c14_gasnew.min_petro_ox_source_mar"
   ]
  },
  {
   "cell_type": "code",
   "execution_count": 77,
   "metadata": {
    "colab": {
     "base_uri": "https://localhost:8080/",
     "height": 446
    },
    "executionInfo": {
     "elapsed": 1395,
     "status": "ok",
     "timestamp": 1649869191070,
     "user": {
      "displayName": "Alison K Tune",
      "userId": "02427951148635427345"
     },
     "user_tz": 300
    },
    "id": "cQnV8DBMDs3D",
    "outputId": "ceef2b29-f57b-48ac-e39c-5b2471ddfd42"
   },
   "outputs": [
    {
     "data": {
      "text/plain": [
       "Text(0.5, 0, 'OC$_{petro}$ oxidation rate (gC/m$^3$/year)')"
      ]
     },
     "execution_count": 77,
     "metadata": {},
     "output_type": "execute_result"
    },
    {
     "data": {
      "image/png": "[encoded data removed]",
      "text/plain": [
       "<Figure size 1200x600 with 2 Axes>"
      ]
     },
     "metadata": {},
     "output_type": "display_data"
    }
   ],
   "source": [
    "# make a nice plot of it\n",
    "fig1 = plt.figure(figsize=(12,6))\n",
    "lower_bound = 8\n",
    "upper_bound = 13.5\n",
    "upper_bound2 = 18\n",
    "size = 60\n",
    "mult = 365\n",
    "\n",
    "#subplot 1\n",
    "ax1 = plt.subplot(1,3,1)\n",
    "ax1 = plt\n",
    "\n",
    "plt.ylabel('Depth [m]', fontsize=13,labelpad=10)\n",
    "plt.errorbar(c14_gasnew.min_petro_ox_source_mar/100,c14_gasnew.depth_m,xerr=c14_gasnew.err_min_petro_ox_source_mar/100 ,fmt='.', color='black',\n",
    "             ecolor='blue', elinewidth=3, capsize=4, alpha = 0.4)\n",
    "plt.plot(c14_gasnew.min_petro_ox_source_mar/100,c14_gasnew.depth_m,'-o', color = 'blue', zorder = 3)\n",
    "plt.errorbar(c14_gasnew.min_petro_ox_source_sept/100,c14_gasnew.depth_m,xerr=c14_gasnew.err_min_petro_ox_source_sept/100,fmt='.', color='black',\n",
    "             ecolor='orange', elinewidth=3, capsize=4, alpha = 0.4)\n",
    "plt.plot(c14_gasnew.min_petro_ox_source_sept/100,c14_gasnew.depth_m, '-s', color='orange', zorder = 4)\n",
    "\n",
    "plt.gca().set_ylim([0, 7])\n",
    "plt.gca().invert_yaxis()\n",
    "ax1.grid()\n",
    "plt.xlabel(r'$\\frac{CO_{2,(g)}\\;sourced\\;from\\;OC_{petro}}{Total\\;CO_{2,(g)}}$',fontsize=18,labelpad=10)\n",
    "\n",
    "# subplot 2\n",
    "ax2 = plt.subplot(1,3,2)\n",
    "ax2 = plt\n",
    "mult = 365;\n",
    "ax2.fill_betweenx(c14_gasnew.depth_m, c14_gasnew.petro_mar_fb5*mult, c14_gasnew.petro_mar_fb10*mult, facecolor='blue', alpha=0.4,label='March') #,label='seasonally saturated'\n",
    "ax2.fill_betweenx(c14_gasnew.depth_m, c14_gasnew.petro_sep_fb5*mult, c14_gasnew.petro_sep_fb10*mult, facecolor='orange', alpha=0.4,label='September') #,label='saturated'\n",
    "\n",
    "ax2.plot(c14_gasnew.petro_mar_fbreal*mult,c14_gasnew.depth_m, '-o',color = 'blue')\n",
    "ax2.plot(c14_gasnew.petro_sept_fbreal*mult,c14_gasnew.depth_m, '-s', color = 'orange')\n",
    "\n",
    "plt.gca().set_ylim([0, 7])\n",
    "plt.gca().invert_yaxis()\n",
    "ax2.grid()\n",
    "plt.legend(loc='upper center',bbox_to_anchor=(-0.1, -0.145))\n",
    "plt.xlabel('OC$_{petro}$ oxidation rate (gC/m$^3$/year)',fontsize=13,labelpad=10)"
   ]
  },
  {
   "cell_type": "code",
   "execution_count": 78,
   "metadata": {
    "colab": {
     "base_uri": "https://localhost:8080/"
    },
    "executionInfo": {
     "elapsed": 50,
     "status": "ok",
     "timestamp": 1649869191070,
     "user": {
      "displayName": "Alison K Tune",
      "userId": "02427951148635427345"
     },
     "user_tz": 300
    },
    "id": "ENLbpWjzBvld",
    "outputId": "8302e962-75c4-49d2-e341-0f0510099419"
   },
   "outputs": [
    {
     "data": {
      "text/plain": [
       "0.009939789040978224"
      ]
     },
     "execution_count": 78,
     "metadata": {},
     "output_type": "execute_result"
    }
   ],
   "source": [
    "max(c14_gasnew.min_petro_ox_source_mar)/100"
   ]
  },
  {
   "cell_type": "code",
   "execution_count": 79,
   "metadata": {
    "colab": {
     "base_uri": "https://localhost:8080/"
    },
    "executionInfo": {
     "elapsed": 46,
     "status": "ok",
     "timestamp": 1649869191071,
     "user": {
      "displayName": "Alison K Tune",
      "userId": "02427951148635427345"
     },
     "user_tz": 300
    },
    "id": "dYzkvIs9BwpS",
    "outputId": "8cda45fd-5d93-48ff-b93f-216a68136632"
   },
   "outputs": [
    {
     "data": {
      "text/plain": [
       "0.0016982187216564172"
      ]
     },
     "execution_count": 79,
     "metadata": {},
     "output_type": "execute_result"
    }
   ],
   "source": [
    "min(c14_gasnew.min_petro_ox_source_sept)/100"
   ]
  },
  {
   "cell_type": "code",
   "execution_count": 80,
   "metadata": {
    "colab": {
     "base_uri": "https://localhost:8080/"
    },
    "executionInfo": {
     "elapsed": 37,
     "status": "ok",
     "timestamp": 1649869191071,
     "user": {
      "displayName": "Alison K Tune",
      "userId": "02427951148635427345"
     },
     "user_tz": 300
    },
    "id": "2_Jx-qcxBI2H",
    "outputId": "3c769890-bfb4-4b59-ade5-c774dec79728"
   },
   "outputs": [
    {
     "data": {
      "text/plain": [
       "0.00014342315912191004"
      ]
     },
     "execution_count": 80,
     "metadata": {},
     "output_type": "execute_result"
    }
   ],
   "source": [
    "max(c14_gasnew.err_min_petro_ox_source_sept/100)"
   ]
  },
  {
   "cell_type": "code",
   "execution_count": 82,
   "metadata": {
    "colab": {
     "base_uri": "https://localhost:8080/"
    },
    "executionInfo": {
     "elapsed": 21,
     "status": "ok",
     "timestamp": 1649869191072,
     "user": {
      "displayName": "Alison K Tune",
      "userId": "02427951148635427345"
     },
     "user_tz": 300
    },
    "id": "Y659hErCRfIN",
    "outputId": "5a712164-c671-420a-8029-793246093bc3"
   },
   "outputs": [
    {
     "data": {
      "text/plain": [
       "1    0.000739\n",
       "2    0.000983\n",
       "4    0.000226\n",
       "5    0.000430\n",
       "Name: petro_sept_fbreal, dtype: float64"
      ]
     },
     "execution_count": 82,
     "metadata": {},
     "output_type": "execute_result"
    }
   ],
   "source": [
    "c14_gasnew.petro_sept_fbreal"
   ]
  },
  {
   "cell_type": "code",
   "execution_count": 83,
   "metadata": {
    "colab": {
     "base_uri": "https://localhost:8080/"
    },
    "executionInfo": {
     "elapsed": 18,
     "status": "ok",
     "timestamp": 1649869191073,
     "user": {
      "displayName": "Alison K Tune",
      "userId": "02427951148635427345"
     },
     "user_tz": 300
    },
    "id": "254HzusVSSWp",
    "outputId": "d2644233-f1ee-47ec-bf24-6a5fdc38e794"
   },
   "outputs": [
    {
     "data": {
      "text/plain": [
       "1    0.000807\n",
       "2    0.001073\n",
       "4    0.000247\n",
       "5    0.000470\n",
       "Name: petro_sep_fb10, dtype: float64"
      ]
     },
     "execution_count": 83,
     "metadata": {},
     "output_type": "execute_result"
    }
   ],
   "source": [
    "c14_gasnew.petro_sep_fb10"
   ]
  },
  {
   "cell_type": "markdown",
   "metadata": {
    "id": "dm6VcetG5YcR"
   },
   "source": [
    "# Determing percentage of petroOC in the rock"
   ]
  },
  {
   "cell_type": "code",
   "execution_count": 84,
   "metadata": {
    "id": "B1BQ9COfZm5S"
   },
   "outputs": [],
   "source": [
    "petroOC_content = hemsolid(c14_rock.c_content_per,c14_rock.fm_c14_solid,fracbio)"
   ]
  },
  {
   "cell_type": "code",
   "execution_count": 85,
   "metadata": {
    "colab": {
     "base_uri": "https://localhost:8080/"
    },
    "executionInfo": {
     "elapsed": 14,
     "status": "ok",
     "timestamp": 1649869191074,
     "user": {
      "displayName": "Alison K Tune",
      "userId": "02427951148635427345"
     },
     "user_tz": 300
    },
    "id": "hsV8bMoEon_M",
    "outputId": "f8f77049-6984-4958-b164-e9aa41931611"
   },
   "outputs": [
    {
     "data": {
      "text/plain": [
       "0    0.286298\n",
       "1    0.160887\n",
       "2    0.208936\n",
       "3    0.139419\n",
       "4    0.145811\n",
       "5    0.270924\n",
       "6    0.365596\n",
       "7    0.271620\n",
       "8    0.310742\n",
       "9    0.362589\n",
       "dtype: float64"
      ]
     },
     "execution_count": 85,
     "metadata": {},
     "output_type": "execute_result"
    }
   ],
   "source": [
    "petroOC_content"
   ]
  },
  {
   "cell_type": "markdown",
   "metadata": {
    "id": "L-S9R-AapEg7"
   },
   "source": [
    "# Plot the data"
   ]
  },
  {
   "cell_type": "code",
   "execution_count": 87,
   "metadata": {
    "colab": {
     "base_uri": "https://localhost:8080/",
     "height": 588
    },
    "executionInfo": {
     "elapsed": 7389,
     "status": "ok",
     "timestamp": 1649869344495,
     "user": {
      "displayName": "Alison K Tune",
      "userId": "02427951148635427345"
     },
     "user_tz": 300
    },
    "id": "pDzlErovwSB8",
    "outputId": "ad4d40c2-d041-4adf-fc04-7f463afa2019"
   },
   "outputs": [
    {
     "name": "stderr",
     "output_type": "stream",
     "text": [
      "/var/folders/68/ydywxrtd4r316knq5n2n7z0c0000gn/T/ipykernel_15015/3489036986.py:76: UserWarning: You passed a edgecolor/edgecolors ('black') for an unfilled marker ('+').  Matplotlib is ignoring the edgecolor in favor of the facecolor.  This behavior may change in the future.\n",
      "  ax4.scatter(rock_chip_incu['230'], rock_chip_incu.depth_m,s = size,c=\"black\",edgecolors=\"black\",marker='+',label='Rock chips')\n"
     ]
    },
    {
     "data": {
      "image/png": "[encoded data removed]",
      "text/plain": [
       "<Figure size 1200x800 with 5 Axes>"
      ]
     },
     "metadata": {},
     "output_type": "display_data"
    }
   ],
   "source": [
    "# plotting\n",
    "fig1 = plt.figure(figsize=(12,8))\n",
    "lower_bound = 8\n",
    "upper_bound = 13.5\n",
    "upper_bound2 = 18\n",
    "size = 60\n",
    "size3 = 45\n",
    "size2 = 9\n",
    "\n",
    "#subplot 1 - gas concentrations\n",
    "ax2 = plt.subplot(1,4,1)\n",
    "ax2.fill_between([0.1,10.5], lower_bound, upper_bound, facecolor='blue', alpha=0.2) #,label='seasonally saturated'\n",
    "ax2.fill_between([0.1,10.5], upper_bound, upper_bound2, facecolor='blue', alpha=0.4) #,label='saturated'\n",
    "ax2.axhline(y=15 ,linewidth=3, linestyle='--', color='r',label='Carbonate & pyrite front',alpha=0.5)\n",
    "plt.scatter(c14gas_plottinglater.co2_per_sept, c14gas_plottinglater.depth_m,s = size,c=\"orange\",edgecolors=\"black\",label='Gas September')\n",
    "plt.scatter(c14gas_plottinglater.co2_per_mar, c14gas_plottinglater.depth_m,s = size,c=\"blue\",edgecolors=\"black\",label='Gas March')\n",
    "plt.ylabel('Depth [m]', fontsize=13,labelpad=10)\n",
    "plt.gca().set_ylim([0, 18])\n",
    "plt.gca().set_xlim([0, 10.5])\n",
    "plt.gca().invert_yaxis()\n",
    "ax2.grid()\n",
    "plt.legend(loc='upper center',bbox_to_anchor=(0.5, 1.23))\n",
    "plt.xlabel('CO$_{2(g)}$ (%)',fontsize=13,labelpad=10)\n",
    "\n",
    "# subplot 2 - rock carbon content\n",
    "ax3 = plt.subplot(1,4,2)\n",
    "ax3.fill_between([0,1], lower_bound, upper_bound, facecolor='blue', alpha=0.2) #,label='seasonally saturated'\n",
    "ax3.fill_between([0,1], upper_bound, upper_bound2, facecolor='blue', alpha=0.4) #,label='saturated'\n",
    "ax3.axhline(y=15 ,linewidth=3, linestyle='--', color='r',label='Carbonate & pyrite front',alpha=0.5)\n",
    "plt.plot(vms_miner[\"C_ORG_per\"], vms_miner[\"Avg_Depth_Below_Ground_Surface_m\"],'-o',markersize = size2,c=\"black\",markeredgecolor=\"black\",label='Organic Carbon')\n",
    "plt.plot(vms_miner[\"TOT_C_per\"], vms_miner[\"Avg_Depth_Below_Ground_Surface_m\"],'-o',markersize = size2,c=\"black\",markerfacecolor=\"white\",markeredgecolor=\"black\",label='Total Carbon')\n",
    "\n",
    "plt.plot(petroOC_content, c14_rock.depth_m,'--*',markersize = size2, color=\"blue\",label='OC$_{petro}$')\n",
    "ax3.set_xlim([0, 1])\n",
    "\n",
    "ax3.grid()\n",
    "plt.xlabel('Carbon content (%)',fontsize=13,labelpad=10)\n",
    "\n",
    "ax5 = ax3.twiny()\n",
    "color = 'tab:orange'\n",
    "ax5.set_xlabel('$\\\\tau$, Organic Carbon', color=color)\n",
    "ax5.plot(vms_miner.tau_C_ORG_per,vms_miner.Avg_Depth_Below_Ground_Surface_m,'-o', color=color, label='try')\n",
    "ax5.tick_params(axis='x', labelcolor=color)\n",
    "mpl.ticker.LinearLocator()\n",
    "ax5.set_xlim([-1, 1])\n",
    "\n",
    "orange_line = mlines.Line2D([], [], color='tab:orange', marker='o',\n",
    "                          markersize=6, label='$\\\\tau$, Organic Carbon')\n",
    "blue_line = mlines.Line2D([], [], color='black', marker='o', markeredgecolor=\"black\",\n",
    "                          markersize=6, label='Total Organic Carbon')\n",
    "blue_line2 = mlines.Line2D([], [], color='black',markerfacecolor=\"white\", marker='o', markeredgecolor=\"black\",\n",
    "                          markersize=6, label='Total Carbon')\n",
    "orange_line2 = mlines.Line2D([], [], color='blue', marker='*',\n",
    "                          markersize=6, label='OC$_{petro}$', linestyle ='--')\n",
    "leg = plt.legend(handles=[orange_line,orange_line2,blue_line,blue_line2],loc='upper center',bbox_to_anchor=(0.5, 1.3))\n",
    "\n",
    "plt.gca().set_ylim([0, 18])\n",
    "plt.gca().invert_yaxis()\n",
    "\n",
    "# plot 3 incubation data\n",
    "ax4 = plt.subplot(1,4,3)\n",
    "bounds_here = [250,850]\n",
    "ax4.fill_between(bounds_here, lower_bound, upper_bound, facecolor='blue', alpha=0.2) #,label='seasonally saturated'\n",
    "ax4.fill_between(bounds_here, upper_bound, upper_bound2, facecolor='blue', alpha=0.4) #,label='saturated'\n",
    "ax4.axhline(y=15 ,linewidth=3, linestyle='--', color='r',alpha=0.5,label='Carbonate & pyrite front')\n",
    "ax4.scatter(all_sample_incu['230'], all_sample_incu.depth_m,s = size,c=\"black\",edgecolors=\"black\",marker='d',label='All material')\n",
    "ax4.scatter(rock_chip_incu['230'], rock_chip_incu.depth_m,s = size,c=\"black\",edgecolors=\"black\",marker='+',label='Rock chips')\n",
    "plt.xlabel('Respiration rate \\n (gC/m$^3$/year)',fontsize=13,labelpad=10)\n",
    "plt.gca().set_ylim([0, 18])\n",
    "plt.gca().set_xlim(bounds_here)\n",
    "plt.gca().invert_yaxis()\n",
    "ax4.legend(loc='upper center',bbox_to_anchor=(0.5, 1.23))\n",
    "ax4.grid()\n",
    "\n",
    "#subplot 4 - radiocarbon of solid and gas\n",
    "ax1 = plt.subplot(1,4,4)\n",
    "ax1.fill_between([-1050,75], lower_bound, upper_bound, facecolor='blue', alpha=0.2) #,label='seasonally saturated'\n",
    "ax1.fill_between([-1050,75], upper_bound, upper_bound2, facecolor='blue', alpha=0.4) #,label='saturated'\n",
    "ax1.axhline(y=15 ,linewidth=3, linestyle='--', color='r',alpha=0.5,label='Carbonate & pyrite front')\n",
    "plt.scatter(c14_rock.Dc14_solid, c14_rock.depth_m,s = size,c=\"black\",edgecolors=\"black\",label='Rock')\n",
    "plt.scatter(c14_gas.Dc14_sept, c14_gas.depth_m,s = size,c=\"orange\",edgecolors=\"black\",label='Gas September')\n",
    "plt.scatter(c14_gas.Dc14_mar, c14_gas.depth_m,s = size3, marker = '^',c=\"blue\",edgecolors=\"black\",label='Gas March',alpha=0.5)\n",
    "plt.xlabel(u'$\\Delta^{14}$C \\n (‰)',fontsize=13,labelpad=10)\n",
    "plt.gca().set_ylim([0, 18])\n",
    "plt.gca().set_xlim([-1050, 75])\n",
    "plt.gca().invert_yaxis()\n",
    "plt.legend(loc='upper center',bbox_to_anchor=(0.5, 1.245))\n",
    "ax1.grid()\n",
    "\n",
    "plt.tight_layout(pad=0.2)"
   ]
  },
  {
   "cell_type": "code",
   "execution_count": 90,
   "metadata": {
    "id": "MwXrTRnzO-Al"
   },
   "outputs": [],
   "source": [
    "all_sample_incu_gcm3yr = all_sample_incu['230'] # formerly asis_gcm3yr\n",
    "rock_chip_incu_gcm3yr = rock_chip_incu['230'] # formerly rc_gcm3yr"
   ]
  },
  {
   "cell_type": "code",
   "execution_count": 91,
   "metadata": {
    "colab": {
     "base_uri": "https://localhost:8080/"
    },
    "executionInfo": {
     "elapsed": 250,
     "status": "ok",
     "timestamp": 1647036387578,
     "user": {
      "displayName": "Alison K Tune",
      "photoUrl": "https://lh3.googleusercontent.com/a/default-user=s64",
      "userId": "02427951148635427345"
     },
     "user_tz": 360
    },
    "id": "0yWNr9maPE_z",
    "outputId": "a0a768ce-ed11-438b-f111-f8011034e902"
   },
   "outputs": [
    {
     "data": {
      "text/plain": [
       "545.6949414971751"
      ]
     },
     "execution_count": 91,
     "metadata": {},
     "output_type": "execute_result"
    }
   ],
   "source": [
    "np.mean(rock_chip_incu_gcm3yr)"
   ]
  },
  {
   "cell_type": "markdown",
   "metadata": {
    "id": "Ymiijm4QSQKB"
   },
   "source": [
    "# Compare VMS mineralogy to the wells (Gu 2020) at ERCZO for landscape scale analysis"
   ]
  },
  {
   "cell_type": "code",
   "execution_count": 94,
   "metadata": {
    "id": "omEQ-lAsvvOT"
   },
   "outputs": [],
   "source": [
    "wellminer\n",
    "# add water table depths for each well based on Gu plots\n",
    "well = np.array([3,10,14,15])\n",
    "wellno = list(range(0, np.size(well)))\n",
    "parent = wellminer.Well.index[wellminer.Well == 100].to_list()\n",
    "seastop = np.array([3.5,11,8.5,19])  #3:50\n",
    "sattop = np.array([10,19,28.5,26.5])"
   ]
  },
  {
   "cell_type": "code",
   "execution_count": 95,
   "metadata": {
    "colab": {
     "base_uri": "https://localhost:8080/",
     "height": 557
    },
    "executionInfo": {
     "elapsed": 212,
     "status": "ok",
     "timestamp": 1647036454528,
     "user": {
      "displayName": "Alison K Tune",
      "photoUrl": "https://lh3.googleusercontent.com/a/default-user=s64",
      "userId": "02427951148635427345"
     },
     "user_tz": 360
    },
    "id": "XRITjZRGl4Up",
    "outputId": "16d9675f-1fd2-484e-9525-86604b225bc9"
   },
   "outputs": [
    {
     "data": {
      "text/html": [
       "<div>\n",
       "<style scoped>\n",
       "    .dataframe tbody tr th:only-of-type {\n",
       "        vertical-align: middle;\n",
       "    }\n",
       "\n",
       "    .dataframe tbody tr th {\n",
       "        vertical-align: top;\n",
       "    }\n",
       "\n",
       "    .dataframe thead th {\n",
       "        text-align: right;\n",
       "    }\n",
       "</style>\n",
       "<table border=\"1\" class=\"dataframe\">\n",
       "  <thead>\n",
       "    <tr style=\"text-align: right;\">\n",
       "      <th></th>\n",
       "      <th>Sample</th>\n",
       "      <th>Well</th>\n",
       "      <th>Depth_m</th>\n",
       "      <th>LOI_wtper</th>\n",
       "      <th>Al_wtper</th>\n",
       "      <th>Ba_wtper</th>\n",
       "      <th>Ca_wtper</th>\n",
       "      <th>Fe_wtper</th>\n",
       "      <th>K_wtper</th>\n",
       "      <th>Mg_wtper</th>\n",
       "      <th>...</th>\n",
       "      <th>Err_Tau_Mn_by_Ti</th>\n",
       "      <th>Err_Tau_Na_by_Ti</th>\n",
       "      <th>Err_Tau_P_by_Ti</th>\n",
       "      <th>Err_Tau_Si_by_Ti</th>\n",
       "      <th>Err_Tau_Sr_by_Ti</th>\n",
       "      <th>Err_Tau_Ti_by_Ti</th>\n",
       "      <th>Err_Tau_S_by_Ti</th>\n",
       "      <th>Err_Tau_TC_by_Ti</th>\n",
       "      <th>Err_Tau_TIC_by_Ti</th>\n",
       "      <th>C-V</th>\n",
       "    </tr>\n",
       "  </thead>\n",
       "  <tbody>\n",
       "    <tr>\n",
       "      <th>0</th>\n",
       "      <td>W14-1</td>\n",
       "      <td>14</td>\n",
       "      <td>0.3048</td>\n",
       "      <td>7.80</td>\n",
       "      <td>9.992253</td>\n",
       "      <td>0.063100</td>\n",
       "      <td>0.357345</td>\n",
       "      <td>5.749278</td>\n",
       "      <td>1.876134</td>\n",
       "      <td>1.573924</td>\n",
       "      <td>...</td>\n",
       "      <td>0.151328</td>\n",
       "      <td>0.052642</td>\n",
       "      <td>0.147198</td>\n",
       "      <td>0.067790</td>\n",
       "      <td>0.071680</td>\n",
       "      <td>0.1</td>\n",
       "      <td>0.004679</td>\n",
       "      <td>0.181791</td>\n",
       "      <td>NaN</td>\n",
       "      <td>NaN</td>\n",
       "    </tr>\n",
       "    <tr>\n",
       "      <th>1</th>\n",
       "      <td>W14-2</td>\n",
       "      <td>14</td>\n",
       "      <td>0.9144</td>\n",
       "      <td>7.00</td>\n",
       "      <td>9.717043</td>\n",
       "      <td>0.060600</td>\n",
       "      <td>0.407374</td>\n",
       "      <td>5.581416</td>\n",
       "      <td>1.768215</td>\n",
       "      <td>1.543772</td>\n",
       "      <td>...</td>\n",
       "      <td>0.112817</td>\n",
       "      <td>0.058831</td>\n",
       "      <td>0.102754</td>\n",
       "      <td>0.070425</td>\n",
       "      <td>0.076790</td>\n",
       "      <td>0.1</td>\n",
       "      <td>NaN</td>\n",
       "      <td>NaN</td>\n",
       "      <td>NaN</td>\n",
       "      <td>NaN</td>\n",
       "    </tr>\n",
       "    <tr>\n",
       "      <th>2</th>\n",
       "      <td>W14-3</td>\n",
       "      <td>14</td>\n",
       "      <td>1.5240</td>\n",
       "      <td>6.60</td>\n",
       "      <td>9.314812</td>\n",
       "      <td>0.053900</td>\n",
       "      <td>0.507430</td>\n",
       "      <td>3.727674</td>\n",
       "      <td>1.577281</td>\n",
       "      <td>1.561863</td>\n",
       "      <td>...</td>\n",
       "      <td>0.156580</td>\n",
       "      <td>0.070231</td>\n",
       "      <td>0.113999</td>\n",
       "      <td>0.073274</td>\n",
       "      <td>0.088106</td>\n",
       "      <td>0.1</td>\n",
       "      <td>0.008081</td>\n",
       "      <td>0.158412</td>\n",
       "      <td>NaN</td>\n",
       "      <td>NaN</td>\n",
       "    </tr>\n",
       "    <tr>\n",
       "      <th>3</th>\n",
       "      <td>W14-4</td>\n",
       "      <td>14</td>\n",
       "      <td>2.1336</td>\n",
       "      <td>6.90</td>\n",
       "      <td>9.791138</td>\n",
       "      <td>0.053200</td>\n",
       "      <td>0.471696</td>\n",
       "      <td>5.294651</td>\n",
       "      <td>1.776516</td>\n",
       "      <td>1.579954</td>\n",
       "      <td>...</td>\n",
       "      <td>0.152896</td>\n",
       "      <td>0.065097</td>\n",
       "      <td>0.135391</td>\n",
       "      <td>0.070595</td>\n",
       "      <td>0.083189</td>\n",
       "      <td>0.1</td>\n",
       "      <td>NaN</td>\n",
       "      <td>NaN</td>\n",
       "      <td>NaN</td>\n",
       "      <td>NaN</td>\n",
       "    </tr>\n",
       "    <tr>\n",
       "      <th>4</th>\n",
       "      <td>W14-5</td>\n",
       "      <td>14</td>\n",
       "      <td>2.7432</td>\n",
       "      <td>7.80</td>\n",
       "      <td>10.002838</td>\n",
       "      <td>0.061900</td>\n",
       "      <td>0.500284</td>\n",
       "      <td>5.833209</td>\n",
       "      <td>1.975752</td>\n",
       "      <td>1.706592</td>\n",
       "      <td>...</td>\n",
       "      <td>0.123070</td>\n",
       "      <td>0.057498</td>\n",
       "      <td>0.095116</td>\n",
       "      <td>0.065257</td>\n",
       "      <td>0.080353</td>\n",
       "      <td>0.1</td>\n",
       "      <td>0.004573</td>\n",
       "      <td>0.076252</td>\n",
       "      <td>NaN</td>\n",
       "      <td>0.705605</td>\n",
       "    </tr>\n",
       "    <tr>\n",
       "      <th>...</th>\n",
       "      <td>...</td>\n",
       "      <td>...</td>\n",
       "      <td>...</td>\n",
       "      <td>...</td>\n",
       "      <td>...</td>\n",
       "      <td>...</td>\n",
       "      <td>...</td>\n",
       "      <td>...</td>\n",
       "      <td>...</td>\n",
       "      <td>...</td>\n",
       "      <td>...</td>\n",
       "      <td>...</td>\n",
       "      <td>...</td>\n",
       "      <td>...</td>\n",
       "      <td>...</td>\n",
       "      <td>...</td>\n",
       "      <td>...</td>\n",
       "      <td>...</td>\n",
       "      <td>...</td>\n",
       "      <td>...</td>\n",
       "      <td>...</td>\n",
       "    </tr>\n",
       "    <tr>\n",
       "      <th>59</th>\n",
       "      <td>w15-66.5</td>\n",
       "      <td>15</td>\n",
       "      <td>20.2692</td>\n",
       "      <td>NaN</td>\n",
       "      <td>9.359640</td>\n",
       "      <td>0.048723</td>\n",
       "      <td>0.453364</td>\n",
       "      <td>5.217015</td>\n",
       "      <td>2.167225</td>\n",
       "      <td>1.792193</td>\n",
       "      <td>...</td>\n",
       "      <td>0.113258</td>\n",
       "      <td>0.060454</td>\n",
       "      <td>0.157625</td>\n",
       "      <td>0.072421</td>\n",
       "      <td>0.069763</td>\n",
       "      <td>0.1</td>\n",
       "      <td>0.075533</td>\n",
       "      <td>0.088852</td>\n",
       "      <td>NaN</td>\n",
       "      <td>1.439936</td>\n",
       "    </tr>\n",
       "    <tr>\n",
       "      <th>60</th>\n",
       "      <td>W15-20</td>\n",
       "      <td>15</td>\n",
       "      <td>22.8600</td>\n",
       "      <td>7.90</td>\n",
       "      <td>9.822893</td>\n",
       "      <td>0.055600</td>\n",
       "      <td>1.057742</td>\n",
       "      <td>5.693324</td>\n",
       "      <td>2.166686</td>\n",
       "      <td>1.791017</td>\n",
       "      <td>...</td>\n",
       "      <td>0.103144</td>\n",
       "      <td>0.052486</td>\n",
       "      <td>0.150703</td>\n",
       "      <td>0.067936</td>\n",
       "      <td>0.065473</td>\n",
       "      <td>0.1</td>\n",
       "      <td>0.002645</td>\n",
       "      <td>0.095105</td>\n",
       "      <td>NaN</td>\n",
       "      <td>3.447368</td>\n",
       "    </tr>\n",
       "    <tr>\n",
       "      <th>61</th>\n",
       "      <td>W15-85</td>\n",
       "      <td>15</td>\n",
       "      <td>25.9080</td>\n",
       "      <td>NaN</td>\n",
       "      <td>9.871981</td>\n",
       "      <td>0.056919</td>\n",
       "      <td>0.435211</td>\n",
       "      <td>5.415477</td>\n",
       "      <td>2.301709</td>\n",
       "      <td>1.685515</td>\n",
       "      <td>...</td>\n",
       "      <td>0.070983</td>\n",
       "      <td>0.052176</td>\n",
       "      <td>0.120911</td>\n",
       "      <td>0.067503</td>\n",
       "      <td>0.052420</td>\n",
       "      <td>0.1</td>\n",
       "      <td>0.017102</td>\n",
       "      <td>0.089504</td>\n",
       "      <td>NaN</td>\n",
       "      <td>3.652511</td>\n",
       "    </tr>\n",
       "    <tr>\n",
       "      <th>62</th>\n",
       "      <td>W15-22</td>\n",
       "      <td>15</td>\n",
       "      <td>34.1376</td>\n",
       "      <td>6.80</td>\n",
       "      <td>10.092811</td>\n",
       "      <td>0.049700</td>\n",
       "      <td>0.821894</td>\n",
       "      <td>5.511473</td>\n",
       "      <td>2.249700</td>\n",
       "      <td>1.821168</td>\n",
       "      <td>...</td>\n",
       "      <td>0.111306</td>\n",
       "      <td>0.076563</td>\n",
       "      <td>0.158238</td>\n",
       "      <td>0.071911</td>\n",
       "      <td>0.185086</td>\n",
       "      <td>0.1</td>\n",
       "      <td>0.107940</td>\n",
       "      <td>0.101687</td>\n",
       "      <td>NaN</td>\n",
       "      <td>3.324324</td>\n",
       "    </tr>\n",
       "    <tr>\n",
       "      <th>63</th>\n",
       "      <td>parent</td>\n",
       "      <td>100</td>\n",
       "      <td>NaN</td>\n",
       "      <td>7.09</td>\n",
       "      <td>9.396073</td>\n",
       "      <td>0.054179</td>\n",
       "      <td>1.185704</td>\n",
       "      <td>5.230199</td>\n",
       "      <td>1.915174</td>\n",
       "      <td>1.698968</td>\n",
       "      <td>...</td>\n",
       "      <td>NaN</td>\n",
       "      <td>NaN</td>\n",
       "      <td>NaN</td>\n",
       "      <td>NaN</td>\n",
       "      <td>NaN</td>\n",
       "      <td>NaN</td>\n",
       "      <td>NaN</td>\n",
       "      <td>NaN</td>\n",
       "      <td>NaN</td>\n",
       "      <td>NaN</td>\n",
       "    </tr>\n",
       "  </tbody>\n",
       "</table>\n",
       "<p>64 rows × 97 columns</p>\n",
       "</div>"
      ],
      "text/plain": [
       "      Sample  Well  Depth_m  LOI_wtper   Al_wtper  Ba_wtper  Ca_wtper  \\\n",
       "0      W14-1    14   0.3048       7.80   9.992253  0.063100  0.357345   \n",
       "1      W14-2    14   0.9144       7.00   9.717043  0.060600  0.407374   \n",
       "2      W14-3    14   1.5240       6.60   9.314812  0.053900  0.507430   \n",
       "3      W14-4    14   2.1336       6.90   9.791138  0.053200  0.471696   \n",
       "4      W14-5    14   2.7432       7.80  10.002838  0.061900  0.500284   \n",
       "..       ...   ...      ...        ...        ...       ...       ...   \n",
       "59  w15-66.5    15  20.2692        NaN   9.359640  0.048723  0.453364   \n",
       "60    W15-20    15  22.8600       7.90   9.822893  0.055600  1.057742   \n",
       "61    W15-85    15  25.9080        NaN   9.871981  0.056919  0.435211   \n",
       "62    W15-22    15  34.1376       6.80  10.092811  0.049700  0.821894   \n",
       "63    parent   100      NaN       7.09   9.396073  0.054179  1.185704   \n",
       "\n",
       "    Fe_wtper   K_wtper  Mg_wtper  ...  Err_Tau_Mn_by_Ti  Err_Tau_Na_by_Ti  \\\n",
       "0   5.749278  1.876134  1.573924  ...          0.151328          0.052642   \n",
       "1   5.581416  1.768215  1.543772  ...          0.112817          0.058831   \n",
       "2   3.727674  1.577281  1.561863  ...          0.156580          0.070231   \n",
       "3   5.294651  1.776516  1.579954  ...          0.152896          0.065097   \n",
       "4   5.833209  1.975752  1.706592  ...          0.123070          0.057498   \n",
       "..       ...       ...       ...  ...               ...               ...   \n",
       "59  5.217015  2.167225  1.792193  ...          0.113258          0.060454   \n",
       "60  5.693324  2.166686  1.791017  ...          0.103144          0.052486   \n",
       "61  5.415477  2.301709  1.685515  ...          0.070983          0.052176   \n",
       "62  5.511473  2.249700  1.821168  ...          0.111306          0.076563   \n",
       "63  5.230199  1.915174  1.698968  ...               NaN               NaN   \n",
       "\n",
       "    Err_Tau_P_by_Ti  Err_Tau_Si_by_Ti  Err_Tau_Sr_by_Ti  Err_Tau_Ti_by_Ti  \\\n",
       "0          0.147198          0.067790          0.071680               0.1   \n",
       "1          0.102754          0.070425          0.076790               0.1   \n",
       "2          0.113999          0.073274          0.088106               0.1   \n",
       "3          0.135391          0.070595          0.083189               0.1   \n",
       "4          0.095116          0.065257          0.080353               0.1   \n",
       "..              ...               ...               ...               ...   \n",
       "59         0.157625          0.072421          0.069763               0.1   \n",
       "60         0.150703          0.067936          0.065473               0.1   \n",
       "61         0.120911          0.067503          0.052420               0.1   \n",
       "62         0.158238          0.071911          0.185086               0.1   \n",
       "63              NaN               NaN               NaN               NaN   \n",
       "\n",
       "    Err_Tau_S_by_Ti  Err_Tau_TC_by_Ti  Err_Tau_TIC_by_Ti       C-V  \n",
       "0          0.004679          0.181791                NaN       NaN  \n",
       "1               NaN               NaN                NaN       NaN  \n",
       "2          0.008081          0.158412                NaN       NaN  \n",
       "3               NaN               NaN                NaN       NaN  \n",
       "4          0.004573          0.076252                NaN  0.705605  \n",
       "..              ...               ...                ...       ...  \n",
       "59         0.075533          0.088852                NaN  1.439936  \n",
       "60         0.002645          0.095105                NaN  3.447368  \n",
       "61         0.017102          0.089504                NaN  3.652511  \n",
       "62         0.107940          0.101687                NaN  3.324324  \n",
       "63              NaN               NaN                NaN       NaN  \n",
       "\n",
       "[64 rows x 97 columns]"
      ]
     },
     "execution_count": 95,
     "metadata": {},
     "output_type": "execute_result"
    }
   ],
   "source": [
    "wellminer"
   ]
  },
  {
   "cell_type": "code",
   "execution_count": 96,
   "metadata": {
    "id": "12ab_7kHoBrC"
   },
   "outputs": [],
   "source": [
    "# make the OC tau from the Ti data and a new column for TC-TIC\n",
    "wellminer[\"OC_wtper\"] = np.nan\n",
    "wellminer.TIC_wtper = np.nan_to_num(wellminer.TIC_wtper)\n",
    "wellminer.OC_wtper = np.subtract(wellminer.TC_wtper,wellminer.TIC_wtper)\n",
    "\n",
    "wellminer[\"OC_tau_Ti\"] = np.nan\n",
    "wellminer.OC_tau_Ti = tau(wellminer.Ti_wtper,wellminer.Ti_wtper.iloc[parent].item(),wellminer.OC_wtper,wellminer.OC_wtper.iloc[parent].item())"
   ]
  },
  {
   "cell_type": "code",
   "execution_count": 97,
   "metadata": {
    "colab": {
     "base_uri": "https://localhost:8080/",
     "height": 605
    },
    "executionInfo": {
     "elapsed": 6982,
     "status": "ok",
     "timestamp": 1647037133613,
     "user": {
      "displayName": "Alison K Tune",
      "photoUrl": "https://lh3.googleusercontent.com/a/default-user=s64",
      "userId": "02427951148635427345"
     },
     "user_tz": 360
    },
    "id": "kgEUBQ0tv9WH",
    "outputId": "d4cf542b-686a-499f-9e37-0ca6afa2ce5a"
   },
   "outputs": [
    {
     "data": {
      "image/png": "[encoded data removed]",
      "text/plain": [
       "<Figure size 1000x800 with 8 Axes>"
      ]
     },
     "metadata": {},
     "output_type": "display_data"
    }
   ],
   "source": [
    "# make a nice figure of the profile\n",
    "ocxlim = 4\n",
    "\n",
    "# plotting code\n",
    "fig1 = plt.figure(figsize=(10,8))\n",
    "for i in wellno:\n",
    "  ax1 = plt.subplot(1,4,i+1)\n",
    "  ax1.fill_between([0,ocxlim], seastop[i], sattop[i], facecolor='blue', alpha=0.2) #,label='seasonally saturated'\n",
    "  ax1.fill_between([0,ocxlim], sattop[i], 40, facecolor='blue', alpha=0.4) #,label='saturated'\n",
    "  idxwell = wellminer.Well.index[wellminer.Well == well[i]].tolist()\n",
    "  s1mask = np.isfinite(wellminer.OC_wtper.iloc[idxwell])\n",
    "  plt.plot(wellminer.OC_wtper.iloc[idxwell][s1mask],wellminer.Depth_m[idxwell][s1mask],'-o', color='k', label='try')\n",
    "\n",
    "  # plot maintenance\n",
    "  plt.ylabel('Depth [m]', fontsize=13,labelpad=10)\n",
    "  plt.gca().set_ylim([0, 40])\n",
    "  plt.gca().set_xlim([0, ocxlim])\n",
    "  plt.gca().invert_yaxis()\n",
    "  plt.title(\"Well \" +  str(well[i]))\n",
    "  ax1.grid()\n",
    "  plt.xlabel('Carbon content (%)',fontsize=13,labelpad=10)\n",
    "\n",
    "  # second axis for tau\n",
    "  ax11 = ax1.twiny()\n",
    "  ax11.set_xlabel('$\\\\tau$, Organic Carbon', color=color)\n",
    "  s1mask = np.isfinite(wellminer.OC_tau_Ti.iloc[idxwell])\n",
    "  ax11.plot(wellminer.OC_tau_Ti.iloc[idxwell][s1mask],wellminer.Depth_m[idxwell][s1mask],'-o', color=color, label='try')\n",
    "  ax11.tick_params(axis='x', labelcolor=color)\n",
    "  mpl.ticker.LinearLocator()\n",
    "  ax11.set_xlim([-2, 6])\n",
    "\n",
    "  orange_line = mlines.Line2D([], [], color='tab:orange', marker='o',\n",
    "                          markersize=6, label='$\\\\tau$, Organic Carbon')\n",
    "  blue_line = mlines.Line2D([], [], color='black', marker='o', markeredgecolor=\"black\",\n",
    "                          markersize=6, label='Total Organic Carbon')\n",
    "  blue_line2 = mlines.Line2D([], [], color='black',markerfacecolor=\"white\", marker='o', markeredgecolor=\"black\",\n",
    "                          markersize=6, label='Total Carbon')\n",
    "  leg = plt.legend(handles=[orange_line,blue_line],loc='upper center',bbox_to_anchor=(0.5, 1.21))\n",
    "\n",
    "  del idxwell\n",
    "\n",
    "plt.tight_layout(pad=0.2)"
   ]
  },
  {
   "cell_type": "markdown",
   "metadata": {
    "id": "L6izV1vMi950"
   },
   "source": [
    "# Calculate rates of petroOC oxidation from solid phase"
   ]
  },
  {
   "cell_type": "code",
   "execution_count": 102,
   "metadata": {
    "id": "CRaa9fOAc9wH"
   },
   "outputs": [],
   "source": [
    "# function to calculate the removal rate of minerals from the rock profile\n",
    "\n",
    "def rate_rock_removal (cbot,ctop,dbot,dtop,uplift): # parent, cbot, ctop in percent; dtop, dbot in m; uplift in m/yr\n",
    "  bot_num = cbot\n",
    "  top_num = ctop\n",
    "  min_removed_per_g = np.subtract(bot_num,top_num)\n",
    "  min_removed_g_g = np.divide(min_removed_per_g,100)\n",
    "  bulk_den = 2650000\n",
    "  min_removed_g_m3 = np.multiply(bulk_den,min_removed_g_g)\n",
    "  change_depth = np.subtract(dbot,dtop)\n",
    "  dC_dz_g_m4 = np.divide(min_removed_g_m3,change_depth)\n",
    "  removal_rate_g_m3_yr = np.multiply(dC_dz_g_m4,uplift)\n",
    "  removal_rate_g_m2_yr = np.multiply(removal_rate_g_m3_yr,change_depth)\n",
    "  return removal_rate_g_m2_yr"
   ]
  },
  {
   "cell_type": "code",
   "execution_count": 104,
   "metadata": {
    "id": "2IbTalGDonNU"
   },
   "outputs": [],
   "source": [
    "def rate_rock_removal_bulk (cbot,ctop,dbot,dtop,bulkbot,bulktop,uplift): # parent, cbot, ctop in percent; dtop, dbot in m; uplift in m/yr\n",
    "  bot_gC_m3 = np.multiply(np.divide(cbot,100),bulkbot)\n",
    "  top_gC_m3 = np.multiply(np.divide(ctop,100),bulktop)\n",
    "  change_depth = np.subtract(dbot,dtop) \n",
    "  min_removed_g_m3 = np.subtract(bot_gC_m3,top_gC_m3)\n",
    "  # dC_dz_g_m4 = np.divide(min_removed_g_m3,change_depth)\n",
    "  # removal_rate_g_m3_yr = np.multiply(dC_dz_g_m4,uplift)\n",
    "  # removal_rate_g_m2_yr = np.multiply(removal_rate_g_m3_yr,change_depth)\n",
    "  mult_erosion = np.divide(change_depth,uplift)\n",
    "  removal_rate_g_m3_yr = np.divide(min_removed_g_m3,mult_erosion)\n",
    "  return removal_rate_g_m3_yr"
   ]
  },
  {
   "cell_type": "code",
   "execution_count": 105,
   "metadata": {
    "id": "8R2_Yd_E9tL5"
   },
   "outputs": [],
   "source": [
    "# find the bulk density of interest\n",
    "bot_bulk_den_idx = 12\n",
    "top_bulk_den_idx = 11"
   ]
  },
  {
   "cell_type": "code",
   "execution_count": 106,
   "metadata": {
    "id": "f_3DmS7LyNNS"
   },
   "outputs": [],
   "source": [
    "uplift_rate = 0.0002"
   ]
  },
  {
   "cell_type": "code",
   "execution_count": 107,
   "metadata": {
    "id": "2noIBCgXeJ7u"
   },
   "outputs": [],
   "source": [
    "# calculate the removal of petrocOC from the VMS\n",
    "parent2 = -1\n",
    "bot_vms_tau_idx = -2\n",
    "top_vms_tau_idx = -7\n",
    "uplift_rate = 0.0002 # uplift rate in m/yr\n",
    "\n",
    "vms_oc_removal_rate = rate_rock_removal(vms_miner.C_ORG_per.iloc[bot_vms_tau_idx],\n",
    "                  vms_miner.C_ORG_per.iloc[top_vms_tau_idx],\n",
    "                  vms_miner.Avg_Depth_Below_Ground_Surface_m.iloc[bot_vms_tau_idx],\n",
    "                  vms_miner.Avg_Depth_Below_Ground_Surface_m.iloc[top_vms_tau_idx],\n",
    "                  uplift_rate)\n",
    "\n",
    "vms_oc_removal_rate_bulk = rate_rock_removal_bulk(vms_miner.C_ORG_per.iloc[bot_vms_tau_idx],\n",
    "                  vms_miner.C_ORG_per.iloc[top_vms_tau_idx],\n",
    "                  vms_miner.Avg_Depth_Below_Ground_Surface_m.iloc[bot_vms_tau_idx],\n",
    "                  vms_miner.Avg_Depth_Below_Ground_Surface_m.iloc[top_vms_tau_idx],\n",
    "                  bulk_den.avg_bulk_den.iloc[bot_bulk_den_idx],\n",
    "                  bulk_den.avg_bulk_den.iloc[top_bulk_den_idx],\n",
    "                  uplift_rate)"
   ]
  },
  {
   "cell_type": "code",
   "execution_count": 109,
   "metadata": {
    "id": "E82exWVueGWW"
   },
   "outputs": [],
   "source": [
    "# calculate the remocal of petroOC from the wells\n",
    "bot_well3_tau_idx = 40 # has IC value\n",
    "top_well3_tau_idx = 38 # 33 # has IC value\n",
    "\n",
    "well3_oc_removal_rate = rate_rock_removal(wellminer.OC_wtper.iloc[bot_well3_tau_idx],\n",
    "                                          wellminer.OC_wtper.iloc[top_well3_tau_idx],\n",
    "                                          wellminer.Depth_m.iloc[bot_well3_tau_idx],\n",
    "                                          wellminer.Depth_m.iloc[top_well3_tau_idx],\n",
    "                                          uplift_rate)\n",
    "\n",
    "well3_oc_removal_rate_bulk = rate_rock_removal_bulk(wellminer.OC_wtper.iloc[bot_well3_tau_idx],\n",
    "                                          wellminer.OC_wtper.iloc[top_well3_tau_idx],\n",
    "                                          wellminer.Depth_m.iloc[bot_well3_tau_idx],\n",
    "                                          wellminer.Depth_m.iloc[top_well3_tau_idx],\n",
    "                                          bulk_den.avg_bulk_den.iloc[bot_bulk_den_idx],\n",
    "                                          bulk_den.avg_bulk_den.iloc[top_bulk_den_idx],\n",
    "                                          uplift_rate)\n",
    "\n",
    "# well 15\n",
    "bot_well15_tau_idx = 60 # no IC value\n",
    "top_well15_tau_idx = 55 # no IC value\n",
    "\n",
    "well15_oc_removal_rate = rate_rock_removal(wellminer.OC_wtper.iloc[bot_well15_tau_idx],\n",
    "                                          wellminer.OC_wtper.iloc[top_well15_tau_idx],\n",
    "                                          wellminer.Depth_m.iloc[bot_well15_tau_idx],\n",
    "                                          wellminer.Depth_m.iloc[top_well15_tau_idx],\n",
    "                                          uplift_rate)\n",
    "\n",
    "well15_oc_removal_rate_bulk = rate_rock_removal_bulk(wellminer.OC_wtper.iloc[bot_well15_tau_idx],\n",
    "                                          wellminer.OC_wtper.iloc[top_well15_tau_idx],\n",
    "                                          wellminer.Depth_m.iloc[bot_well15_tau_idx],\n",
    "                                          wellminer.Depth_m.iloc[top_well15_tau_idx],\n",
    "                                          bulk_den.avg_bulk_den.iloc[bot_bulk_den_idx],\n",
    "                                          bulk_den.avg_bulk_den.iloc[top_bulk_den_idx],\n",
    "                                          uplift_rate)\n",
    "\n",
    "# well 14\n",
    "bot_well14_tau_idx = 16 # has IC value\n",
    "top_well14_tau_idx = 12 # has IC value\n",
    "\n",
    "well14_oc_removal_rate = rate_rock_removal(wellminer.OC_wtper.iloc[bot_well14_tau_idx],\n",
    "                                          wellminer.OC_wtper.iloc[top_well14_tau_idx],\n",
    "                                          wellminer.Depth_m.iloc[bot_well14_tau_idx],\n",
    "                                          wellminer.Depth_m.iloc[top_well14_tau_idx],\n",
    "                                          uplift_rate)\n",
    "\n",
    "well14_oc_removal_rate_bulk = rate_rock_removal_bulk(wellminer.OC_wtper.iloc[bot_well14_tau_idx],\n",
    "                                          wellminer.OC_wtper.iloc[top_well14_tau_idx],\n",
    "                                          wellminer.Depth_m.iloc[bot_well14_tau_idx],\n",
    "                                          wellminer.Depth_m.iloc[top_well14_tau_idx],\n",
    "                                          bulk_den.avg_bulk_den.iloc[bot_bulk_den_idx],\n",
    "                                          bulk_den.avg_bulk_den.iloc[top_bulk_den_idx],\n",
    "                                          uplift_rate)"
   ]
  },
  {
   "cell_type": "code",
   "execution_count": 112,
   "metadata": {
    "colab": {
     "base_uri": "https://localhost:8080/"
    },
    "executionInfo": {
     "elapsed": 166,
     "status": "ok",
     "timestamp": 1645829061791,
     "user": {
      "displayName": "Alison K Tune",
      "photoUrl": "https://lh3.googleusercontent.com/a/default-user=s64",
      "userId": "02427951148635427345"
     },
     "user_tz": 360
    },
    "id": "HwEEINMXgABk",
    "outputId": "d92dffd3-44f1-4ea8-cc69-53e587815991"
   },
   "outputs": [
    {
     "name": "stdout",
     "output_type": "stream",
     "text": [
      "[0.5300000000000001, 1.4416000000000002, 2.6912671999608797, 3.21445]\n",
      "[0.11633398592132732, 0.21415506740634688, 0.2399229849783934, 0.3971443092701647]\n"
     ]
    }
   ],
   "source": [
    "print([vms_oc_removal_rate,well3_oc_removal_rate,well15_oc_removal_rate,well14_oc_removal_rate])\n",
    "print([vms_oc_removal_rate_bulk,well3_oc_removal_rate_bulk,well15_oc_removal_rate_bulk,well14_oc_removal_rate_bulk])"
   ]
  },
  {
   "cell_type": "code",
   "execution_count": 114,
   "metadata": {
    "id": "pfB9CNqTVDU-"
   },
   "outputs": [],
   "source": [
    "# fun test to see if its right\n",
    "\n",
    "def c_conc_any_depth(rate_ofint,cbot,bulkbot,bulktop,eps,dbot,dtop):\n",
    "    toppy = np.multiply(rate_ofint,np.subtract(dbot,dtop))\n",
    "    right = np.divide(toppy,eps)\n",
    "    left = np.multiply(np.divide(cbot,100),bulkbot)\n",
    "    numer = np.subtract(left,right)\n",
    "    c_shal = np.multiply(np.divide(numer,bulktop),100)\n",
    "    return c_shal"
   ]
  },
  {
   "cell_type": "code",
   "execution_count": 115,
   "metadata": {
    "id": "YaN6FMlwYDzO"
   },
   "outputs": [],
   "source": [
    "soil_bulk_den_idx = 0"
   ]
  },
  {
   "cell_type": "code",
   "execution_count": 116,
   "metadata": {
    "id": "RXbcMeMEWZ_c"
   },
   "outputs": [],
   "source": [
    "conc_soil = c_conc_any_depth(vms_oc_removal_rate_bulk,vms_miner.C_ORG_per.iloc[bot_vms_tau_idx],\n",
    "                 bulk_den.avg_bulk_den.iloc[bot_bulk_den_idx],bulk_den.avg_bulk_den.iloc[soil_bulk_den_idx],\n",
    "                 uplift_rate,vms_miner.Avg_Depth_Below_Ground_Surface_m.iloc[bot_vms_tau_idx],1.5)"
   ]
  },
  {
   "cell_type": "code",
   "execution_count": 117,
   "metadata": {
    "colab": {
     "base_uri": "https://localhost:8080/"
    },
    "executionInfo": {
     "elapsed": 165,
     "status": "ok",
     "timestamp": 1645829069431,
     "user": {
      "displayName": "Alison K Tune",
      "photoUrl": "https://lh3.googleusercontent.com/a/default-user=s64",
      "userId": "02427951148635427345"
     },
     "user_tz": 360
    },
    "id": "031Fc4_zY3FT",
    "outputId": "24ed89ea-43dd-4e41-d47a-1dd2dfcd9c27"
   },
   "outputs": [
    {
     "name": "stdout",
     "output_type": "stream",
     "text": [
      "0.046698385678832645\n"
     ]
    }
   ],
   "source": [
    "print(conc_soil)"
   ]
  },
  {
   "cell_type": "code",
   "execution_count": 118,
   "metadata": {
    "colab": {
     "base_uri": "https://localhost:8080/"
    },
    "executionInfo": {
     "elapsed": 144,
     "status": "ok",
     "timestamp": 1645829073098,
     "user": {
      "displayName": "Alison K Tune",
      "photoUrl": "https://lh3.googleusercontent.com/a/default-user=s64",
      "userId": "02427951148635427345"
     },
     "user_tz": 360
    },
    "id": "SKw0WBscZHfO",
    "outputId": "667d18e5-38e4-4184-8852-05b822a8f204"
   },
   "outputs": [
    {
     "data": {
      "text/plain": [
       "0.39"
      ]
     },
     "execution_count": 118,
     "metadata": {},
     "output_type": "execute_result"
    }
   ],
   "source": [
    "vms_miner.C_ORG_per.iloc[bot_vms_tau_idx]"
   ]
  },
  {
   "cell_type": "code",
   "execution_count": 119,
   "metadata": {
    "colab": {
     "base_uri": "https://localhost:8080/"
    },
    "executionInfo": {
     "elapsed": 157,
     "status": "ok",
     "timestamp": 1645829074835,
     "user": {
      "displayName": "Alison K Tune",
      "photoUrl": "https://lh3.googleusercontent.com/a/default-user=s64",
      "userId": "02427951148635427345"
     },
     "user_tz": 360
    },
    "id": "_x0TRawLZ8q7",
    "outputId": "2e4a8e70-523a-4a09-c9ed-da1f081f8d1a"
   },
   "outputs": [
    {
     "data": {
      "text/plain": [
       "2453404.9999999995"
      ]
     },
     "execution_count": 119,
     "metadata": {},
     "output_type": "execute_result"
    }
   ],
   "source": [
    "bulk_den.avg_bulk_den.iloc[bot_bulk_den_idx]"
   ]
  },
  {
   "cell_type": "code",
   "execution_count": 120,
   "metadata": {
    "colab": {
     "base_uri": "https://localhost:8080/"
    },
    "executionInfo": {
     "elapsed": 145,
     "status": "ok",
     "timestamp": 1645829129099,
     "user": {
      "displayName": "Alison K Tune",
      "photoUrl": "https://lh3.googleusercontent.com/a/default-user=s64",
      "userId": "02427951148635427345"
     },
     "user_tz": 360
    },
    "id": "MKJvWOwiDrRH",
    "outputId": "cd2ce455-0dda-4220-fffc-1b72df71480f"
   },
   "outputs": [
    {
     "data": {
      "text/plain": [
       "9568.279499999999"
      ]
     },
     "execution_count": 120,
     "metadata": {},
     "output_type": "execute_result"
    }
   ],
   "source": [
    "bulk_den.avg_bulk_den.iloc[bot_bulk_den_idx]*(0.39/100)"
   ]
  }
 ],
 "metadata": {
  "colab": {
   "collapsed_sections": [],
   "name": "Master_Final_PetroOC _Paper_Code_D14C",
   "provenance": [],
   "toc_visible": true
  },
  "kernelspec": {
   "display_name": "Python 3 (ipykernel)",
   "language": "python",
   "name": "python3"
  },
  "language_info": {
   "codemirror_mode": {
    "name": "ipython",
    "version": 3
   },
   "file_extension": ".py",
   "mimetype": "text/x-python",
   "name": "python",
   "nbconvert_exporter": "python",
   "pygments_lexer": "ipython3",
   "version": "3.9.13"
  }
 },
 "nbformat": 4,
 "nbformat_minor": 1
}
